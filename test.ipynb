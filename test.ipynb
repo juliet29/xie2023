{
 "cells": [
  {
   "cell_type": "code",
   "execution_count": 24,
   "metadata": {},
   "outputs": [],
   "source": [
    "import numpy as np\n",
    "from enum import Enum\n",
    "\n",
    "# import sys\n",
    "# sys.path.insert(0, \"../scripts\")\n",
    "from graphs import *"
   ]
  },
  {
   "cell_type": "code",
   "execution_count": 21,
   "metadata": {},
   "outputs": [],
   "source": [
    "class SpatialRel(Enum):\n",
    "    \"\"\"Spatial relation\"\"\"\n",
    "    NO_RELATION = 0\n",
    "    ADJACENT = 1\n",
    "    INTERSECTING = 2\n",
    "    CONTAINS = 3\n",
    "    CONTAINING = 4\n",
    "\n",
    "class Orient(Enum):\n",
    "    \"\"\"Orientation\"\"\"\n",
    "    NONE = 0\n",
    "    NORTH = 1\n",
    "    SOUTH = 2\n",
    "    EAST = 3\n",
    "    WEST = 4\n",
    "    TOP = 5\n",
    "    BOTTOM = 6"
   ]
  },
  {
   "cell_type": "code",
   "execution_count": 14,
   "metadata": {},
   "outputs": [
    {
     "data": {
      "text/plain": [
       "array([[<SpatialRel.NO_RELATION: 0>, <SpatialRel.ADJACENT: 1>,\n",
       "        <SpatialRel.ADJACENT: 1>, <SpatialRel.CONTAINS: 3>],\n",
       "       [<SpatialRel.ADJACENT: 1>, <SpatialRel.NO_RELATION: 0>,\n",
       "        <SpatialRel.INTERSECTING: 2>, <SpatialRel.ADJACENT: 1>],\n",
       "       [<SpatialRel.ADJACENT: 1>, <SpatialRel.INTERSECTING: 2>,\n",
       "        <SpatialRel.NO_RELATION: 0>, <SpatialRel.ADJACENT: 1>],\n",
       "       [<SpatialRel.CONTAINING: 4>, <SpatialRel.ADJACENT: 1>,\n",
       "        <SpatialRel.ADJACENT: 1>, <SpatialRel.NO_RELATION: 0>]],\n",
       "      dtype=object)"
      ]
     },
     "execution_count": 14,
     "metadata": {},
     "output_type": "execute_result"
    }
   ],
   "source": [
    "R = np.vectorize(lambda x: SpatialRel(x))(np.array([\n",
    "    [0, 1, 1, 3],\n",
    "    [1,0,2,1],\n",
    "    [1,2,0,1],\n",
    "    [4,1,1,0]\n",
    "]))\n",
    "R"
   ]
  },
  {
   "cell_type": "code",
   "execution_count": 17,
   "metadata": {},
   "outputs": [
    {
     "data": {
      "text/plain": [
       "array([0., 0., 0., 0.])"
      ]
     },
     "execution_count": 17,
     "metadata": {},
     "output_type": "execute_result"
    }
   ],
   "source": [
    "np.zeros(4)"
   ]
  },
  {
   "cell_type": "code",
   "execution_count": 23,
   "metadata": {},
   "outputs": [
    {
     "data": {
      "text/plain": [
       "array([[<Orient.NONE: 0>, <Orient.NORTH: 1>, <Orient.NONE: 0>,\n",
       "        <Orient.NONE: 0>],\n",
       "       [<Orient.SOUTH: 2>, <Orient.NONE: 0>, <Orient.NONE: 0>,\n",
       "        <Orient.NONE: 0>],\n",
       "       [<Orient.NONE: 0>, <Orient.NONE: 0>, <Orient.NONE: 0>,\n",
       "        <Orient.NONE: 0>],\n",
       "       [<Orient.NONE: 0>, <Orient.NONE: 0>, <Orient.NONE: 0>,\n",
       "        <Orient.NONE: 0>]], dtype=object)"
      ]
     },
     "execution_count": 23,
     "metadata": {},
     "output_type": "execute_result"
    }
   ],
   "source": [
    "O = np.vectorize(lambda x: Orient(x))(np.array([\n",
    "    [0, 1, 0, 0],\n",
    "    [2, 0, 0, 0],\n",
    "    np.zeros(4, np.int8),\n",
    "    np.zeros(4, np.int8)\n",
    "]))\n",
    "O"
   ]
  },
  {
   "cell_type": "code",
   "execution_count": 25,
   "metadata": {},
   "outputs": [],
   "source": [
    "connections = [('A', 'B'), ('B', 'C'), ('B', 'D'),\n",
    "                   ('C', 'D'), ('E', 'F'), ('F', 'C')]"
   ]
  },
  {
   "cell_type": "code",
   "execution_count": 26,
   "metadata": {},
   "outputs": [],
   "source": [
    "g = Graph(connections, directed=True)"
   ]
  },
  {
   "cell_type": "code",
   "execution_count": 27,
   "metadata": {},
   "outputs": [],
   "source": [
    "pretty_print = pprint.PrettyPrinter()"
   ]
  },
  {
   "cell_type": "code",
   "execution_count": 28,
   "metadata": {},
   "outputs": [
    {
     "name": "stdout",
     "output_type": "stream",
     "text": [
      "defaultdict(<class 'set'>,\n",
      "            {'A': {'B'},\n",
      "             'B': {'C', 'D'},\n",
      "             'C': {'D'},\n",
      "             'E': {'F'},\n",
      "             'F': {'C'}})\n"
     ]
    }
   ],
   "source": [
    "pretty_print.pprint(g._graph)"
   ]
  }
 ],
 "metadata": {
  "kernelspec": {
   "display_name": "gqenv",
   "language": "python",
   "name": "python3"
  },
  "language_info": {
   "codemirror_mode": {
    "name": "ipython",
    "version": 3
   },
   "file_extension": ".py",
   "mimetype": "text/x-python",
   "name": "python",
   "nbconvert_exporter": "python",
   "pygments_lexer": "ipython3",
   "version": "3.9.15"
  }
 },
 "nbformat": 4,
 "nbformat_minor": 2
}
