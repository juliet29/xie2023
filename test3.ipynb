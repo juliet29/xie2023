{
 "cells": [
  {
   "cell_type": "code",
   "execution_count": 2,
   "metadata": {},
   "outputs": [],
   "source": [
    "import matplotlib.pyplot as plt\n",
    "import numpy as np\n",
    "\n",
    "import networkx as nx\n",
    "import constraint as cn\n",
    "\n",
    "from operator import itemgetter\n",
    "\n",
    "from graphs import *\n"
   ]
  },
  {
   "cell_type": "markdown",
   "metadata": {},
   "source": [
    "# Initialize Graph"
   ]
  },
  {
   "cell_type": "code",
   "execution_count": 3,
   "metadata": {},
   "outputs": [],
   "source": [
    "R = np.vectorize(lambda x: SpatialRel(x))(np.array([\n",
    "    [0, 1, 1, 3],\n",
    "    [1,0,2,1],\n",
    "    [1,2,0,1],\n",
    "    [4,1,1,0]\n",
    "]))\n",
    "\n",
    "O = np.vectorize(lambda x: Orient(x))(np.array([\n",
    "    [0, 1, 0, 0],\n",
    "    [2, 0, 0, 0],\n",
    "    np.zeros(4, np.int8),\n",
    "    np.zeros(4, np.int8)\n",
    "]))"
   ]
  },
  {
   "cell_type": "code",
   "execution_count": 4,
   "metadata": {},
   "outputs": [],
   "source": [
    "node_data = {\n",
    "    \"room_names\" : [\"entrance\", \"rest_space\", \"dining_space\", \"platform\"],\n",
    "    \"length\" : [3,3,3,1],\n",
    "    \"width\" : [3,3,3,1],\n",
    "    \"height\" : [3,3,3,2],\n",
    "    \"lev_height\" : [0,0,1,1]\n",
    "}"
   ]
  },
  {
   "cell_type": "code",
   "execution_count": 5,
   "metadata": {},
   "outputs": [],
   "source": [
    "CG = nx.complete_graph(4)  \n",
    "\n",
    "for key, value in node_data.items():\n",
    "    for nd, item in zip(CG.nodes,value):\n",
    "        CG.nodes[nd][key] = item\n",
    "\n",
    "# all nodes have the same position to begin \n",
    "for nd in CG.nodes:\n",
    "    CG.nodes[nd][\"pos\"] = np.zeros(3)\n",
    "    CG.nodes[nd][\"faces\"] = NodeFaces()\n",
    "    "
   ]
  },
  {
   "cell_type": "code",
   "execution_count": 6,
   "metadata": {},
   "outputs": [],
   "source": [
    "# add edge information abour orientation and spatial relations \n",
    "n = np.linspace(0,3,4)\n",
    "X2D,Y2D = np.meshgrid(n,n)\n",
    "attrs = {(x,y): {\"space_rel\": sr, \"orient\": o} for x,y,sr,o in zip(Y2D.ravel(),X2D.ravel(), R.ravel(), O.ravel())}\n",
    "nx.set_edge_attributes(CG, attrs)"
   ]
  },
  {
   "cell_type": "code",
   "execution_count": 7,
   "metadata": {},
   "outputs": [
    {
     "data": {
      "image/png": "[encoded data removed]",
      "text/plain": [
       "<Figure size 640x480 with 1 Axes>"
      ]
     },
     "metadata": {},
     "output_type": "display_data"
    }
   ],
   "source": [
    "subax1 = plt.subplot(121)\n",
    "nx.draw(CG, with_labels=True)"
   ]
  },
  {
   "cell_type": "markdown",
   "metadata": {},
   "source": [
    "## create spanning tree + set orientations"
   ]
  },
  {
   "cell_type": "code",
   "execution_count": 8,
   "metadata": {},
   "outputs": [
    {
     "name": "stdout",
     "output_type": "stream",
     "text": [
      "[(0, 1), <Orient.SOUTH: 2>]\n",
      "[(1, 2), <Orient.WEST: 4>]\n",
      "[(2, 0), <Orient.EAST: 3>]\n",
      "[(0, 3), <Orient.SOUTH: 2>]\n",
      "[(3, 1), <Orient.SOUTH: 2>]\n",
      "[(3, 2), <Orient.EAST: 3>]\n"
     ]
    }
   ],
   "source": [
    "# create \"spanning\" tree\n",
    "tree = list(nx.edge_dfs(CG, source=0))\n",
    "\n",
    "rng = np.random.default_rng(seed=42)\n",
    "n_unorient = sum([CG.edges[rel][\"orient\"] == Orient.NONE for rel in tree])\n",
    "new_orients = rng.integers(0, 6, len(tree)) # TODO FIX need to have fixed relationships..\n",
    "\n",
    "\n",
    "for n, rel in zip(new_orients, tree):\n",
    "    if CG.edges[rel][\"orient\"] == Orient.NONE:\n",
    "        CG.edges[rel][\"orient\"] = Orient(n)\n",
    "\n",
    "\n",
    "# FOR testing purposes, match Fig 16a, 3-2 has East(*-1) relationship => West (but edges are unidirectional for now, so keep as East...) \n",
    "CG.edges[2,3][\"orient\"] = Orient.EAST\n",
    "\n",
    "\n",
    "for n in tree:\n",
    "    print([n, CG.edges[n][\"orient\"]])\n",
    "# TODO organize so that for single unit dif, early numbers come first, until reach last unit. Then  later numbers come first\n"
   ]
  },
  {
   "cell_type": "markdown",
   "metadata": {},
   "source": [
    "# Create spatial units"
   ]
  },
  {
   "cell_type": "code",
   "execution_count": 299,
   "metadata": {},
   "outputs": [
    {
     "data": {
      "text/plain": [
       "[{'x': 9},\n",
       " {'x': 8},\n",
       " {'x': 7},\n",
       " {'x': 6},\n",
       " {'x': 5},\n",
       " {'x': 4},\n",
       " {'x': 3},\n",
       " {'x': 2},\n",
       " {'x': 1},\n",
       " {'x': 0}]"
      ]
     },
     "execution_count": 299,
     "metadata": {},
     "output_type": "execute_result"
    }
   ],
   "source": [
    "p = cn.Problem()\n",
    "p.addVariable(\"x\", range(10))\n",
    "p.getSolutions()\n",
    "\n",
    "\n"
   ]
  },
  {
   "cell_type": "code",
   "execution_count": 292,
   "metadata": {},
   "outputs": [],
   "source": [
    "p.addConstraint(lambda x: x < 2, (\"x\"))"
   ]
  },
  {
   "cell_type": "code",
   "execution_count": 300,
   "metadata": {},
   "outputs": [],
   "source": [
    "p.addConstraint(cn.InSetConstraint([2+2]))"
   ]
  },
  {
   "cell_type": "code",
   "execution_count": 301,
   "metadata": {},
   "outputs": [
    {
     "data": {
      "text/plain": [
       "[{'x': 4}]"
      ]
     },
     "execution_count": 301,
     "metadata": {},
     "output_type": "execute_result"
    }
   ],
   "source": [
    "p.getSolutions()"
   ]
  },
  {
   "cell_type": "code",
   "execution_count": 358,
   "metadata": {},
   "outputs": [],
   "source": [
    "class Face(cn.Problem):\n",
    "    def __init__(self, face):\n",
    "        cn.Problem.__init__(self)\n",
    "        nrange = range(-100, 100)\n",
    "        self.addVariable(face, nrange)\n",
    "        self.axis = face\n",
    "\n",
    "\n",
    "\n",
    "    def get_face_sol(self):\n",
    "        assert len(self.getSolutions()) == 1, \"Not a unique solution\"\n",
    "        self.solution = [*self.getSolution().values()][0]\n",
    "        return self.solution"
   ]
  },
  {
   "cell_type": "code",
   "execution_count": 329,
   "metadata": {},
   "outputs": [],
   "source": [
    "class NodeFaces():\n",
    "    def __init__(self):\n",
    "        self.faceN = Face(\"y\")\n",
    "        self.faceS = Face(\"y\")\n",
    "        self.faceE = Face(\"x\")\n",
    "        self.faceW = Face(\"x\")\n",
    "        self.faceT = Face(\"z\")\n",
    "        self.faceB = Face(\"z\")\n",
    "    \n",
    "    def see_curr_sols(self):\n",
    "        face_sols = {}\n",
    "        for face in vars(self):\n",
    "            curr_sols = [list(z.values())[0] for z in self.__getattribute__(face).getSolutions()]\n",
    "            if len(curr_sols) < 1:\n",
    "                face_sols[face] = \"No Solutions\"\n",
    "\n",
    "            elif len(curr_sols) == 1:\n",
    "                face_sols[face] = curr_sols[0]\n",
    "            else:\n",
    "                face_sols[face] = {\n",
    "                    \"min\": min(curr_sols),\n",
    "                    \"max\": max(curr_sols),\n",
    "                }\n",
    "    \n",
    "        return face_sols\n"
   ]
  },
  {
   "cell_type": "code",
   "execution_count": 321,
   "metadata": {},
   "outputs": [],
   "source": [
    "class SpatialUnitProperties:\n",
    "    def __init__(self, name=\"Test\", length=1, width=1, height=1, level_height=0):\n",
    "        self.name = name\n",
    "        self.length = length\n",
    "        self.width = width\n",
    "        self.height = height\n",
    "        self.level_height = level_height"
   ]
  },
  {
   "cell_type": "code",
   "execution_count": 375,
   "metadata": {},
   "outputs": [],
   "source": []
  },
  {
   "cell_type": "code",
   "execution_count": 376,
   "metadata": {},
   "outputs": [],
   "source": [
    "def set_matching_face(f1: Face, f2:Face, sup):\n",
    "    # TODO s is a member of SpatialUnitProperties\n",
    "    poss_sols = [[*sol.values()][0] + sup for sol in f2.getSolutionIter()]\n",
    "    return f1.addConstraint(cn.InSetConstraint(poss_sols))\n",
    "\n",
    "def set_face_relation(n: NodeFaces, f: Face, s: SpatialUnitProperties):\n",
    "    d = {\n",
    "        \"y\": (\"faceS\", \"faceN\", s.width),\n",
    "        \"x\": (\"faceW\", \"faceE\", s.length),\n",
    "        \"z\": (\"faceB\", \"faceT\", s.height)\n",
    "    }\n",
    "\n",
    "    f1, f2, s = [*d[f.axis]]\n",
    "    return set_matching_face(n.__getattribute__(f1), n.__getattribute__(f2), s)\n",
    "                \n",
    "    "
   ]
  },
  {
   "cell_type": "code",
   "execution_count": 360,
   "metadata": {},
   "outputs": [
    {
     "name": "stdout",
     "output_type": "stream",
     "text": [
      "0\n"
     ]
    },
    {
     "data": {
      "text/plain": [
       "<__main__.NodeFaces at 0x12f225040>"
      ]
     },
     "execution_count": 360,
     "metadata": {},
     "output_type": "execute_result"
    }
   ],
   "source": [
    "# doing manually to begin ...\n",
    "\n",
    "# for node 0... -> bottom at 0 \n",
    "n0 = NodeFaces()\n",
    "n0.faceB.addConstraint(cn.InSetConstraint([CG.nodes[0][\"lev_height\"]])) \n",
    "n0.faceW.addConstraint(cn.InSetConstraint([0]))\n",
    "n0.faceS.addConstraint(cn.InSetConstraint([0]))\n",
    "\n",
    "# set relationship with other faces\n",
    "s1 = SpatialUnitProperties()\n",
    "# now need to set incrementally \n",
    "# set_face_relations(n0, s1) #.see_curr_sols()\n",
    "\n"
   ]
  },
  {
   "cell_type": "code",
   "execution_count": 361,
   "metadata": {},
   "outputs": [
    {
     "data": {
      "text/plain": [
       "{'faceN': 1, 'faceS': 0, 'faceE': 1, 'faceW': 0, 'faceT': 1, 'faceB': 0}"
      ]
     },
     "execution_count": 361,
     "metadata": {},
     "output_type": "execute_result"
    }
   ],
   "source": [
    "n0.see_curr_sols()"
   ]
  },
  {
   "cell_type": "code",
   "execution_count": 340,
   "metadata": {},
   "outputs": [],
   "source": [
    "def add_orientation_constraint(face1, face2_val):\n",
    "    print(face1, face2_val)\n",
    "    return face1.addConstraint(lambda x: x > face2_val)\n",
    "\n",
    "\n",
    "def orient_ij(ni, nj, orient):\n",
    "    d = {\n",
    "        Orient.SOUTH : (nj.faceN, ni.faceS.get_face_sol()),\n",
    "        Orient.WEST : (nj.faceE, ni.faceW.get_face_sol()),  \n",
    "        Orient.BOTTOM : (nj.faceT, ni.faceB.get_face_sol())\n",
    "    }\n",
    "\n",
    "    add_orientation_constraint(*d[orient])\n",
    "    return \n",
    "    "
   ]
  },
  {
   "cell_type": "code",
   "execution_count": 341,
   "metadata": {},
   "outputs": [
    {
     "data": {
      "text/plain": [
       "{'faceN': {'min': -100, 'max': 99},\n",
       " 'faceS': {'min': -100, 'max': 99},\n",
       " 'faceE': {'min': -100, 'max': 99},\n",
       " 'faceW': {'min': -100, 'max': 99},\n",
       " 'faceT': {'min': -100, 'max': 99},\n",
       " 'faceB': {'min': -100, 'max': 99}}"
      ]
     },
     "execution_count": 341,
     "metadata": {},
     "output_type": "execute_result"
    }
   ],
   "source": [
    "n1 = NodeFaces()\n",
    "n1.see_curr_sols()"
   ]
  },
  {
   "cell_type": "code",
   "execution_count": 331,
   "metadata": {},
   "outputs": [],
   "source": [
    "# n1.faceN.addConstraint(lambda x: x > 10)"
   ]
  },
  {
   "cell_type": "code",
   "execution_count": 342,
   "metadata": {},
   "outputs": [
    {
     "name": "stdout",
     "output_type": "stream",
     "text": [
      "<__main__.Face object at 0x11ffb7460> 0\n"
     ]
    }
   ],
   "source": [
    "orient_ij(n0, n1, Orient.BOTTOM)"
   ]
  },
  {
   "cell_type": "code",
   "execution_count": 343,
   "metadata": {},
   "outputs": [
    {
     "data": {
      "text/plain": [
       "{'faceN': {'min': -100, 'max': 99},\n",
       " 'faceS': {'min': -100, 'max': 99},\n",
       " 'faceE': {'min': -100, 'max': 99},\n",
       " 'faceW': {'min': -100, 'max': 99},\n",
       " 'faceT': {'min': 1, 'max': 99},\n",
       " 'faceB': {'min': -100, 'max': 99}}"
      ]
     },
     "execution_count": 343,
     "metadata": {},
     "output_type": "execute_result"
    }
   ],
   "source": [
    "n1.see_curr_sols() # TODO issue -> running  all when begin + numbers are messed up -> switch around "
   ]
  }
 ],
 "metadata": {
  "kernelspec": {
   "display_name": "gqenv",
   "language": "python",
   "name": "python3"
  },
  "language_info": {
   "codemirror_mode": {
    "name": "ipython",
    "version": 3
   },
   "file_extension": ".py",
   "mimetype": "text/x-python",
   "name": "python",
   "nbconvert_exporter": "python",
   "pygments_lexer": "ipython3",
   "version": "3.9.15"
  }
 },
 "nbformat": 4,
 "nbformat_minor": 2
}
