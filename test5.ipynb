{
 "cells": [
  {
   "cell_type": "code",
   "execution_count": 1,
   "metadata": {},
   "outputs": [],
   "source": [
    "import matplotlib.pyplot as plt\n",
    "import plotly.graph_objects as go\n",
    "import numpy as np\n",
    "\n",
    "import networkx as nx\n",
    "import constraint as cn\n",
    "\n",
    "from operator import itemgetter\n",
    "\n",
    "from helpers import *\n",
    "from setup import *\n",
    "from actions import * \n",
    "from solution import *\n",
    "from visuals import * \n",
    "from graph_data import * "
   ]
  },
  {
   "cell_type": "code",
   "execution_count": 2,
   "metadata": {},
   "outputs": [],
   "source": [
    "s = Solution()"
   ]
  },
  {
   "cell_type": "code",
   "execution_count": 3,
   "metadata": {},
   "outputs": [
    {
     "name": "stderr",
     "output_type": "stream",
     "text": [
      "ic| solution.py:41 in solve_2D_problem()- edge: (0, 1)\n",
      "ic| actions.py:56 in spatial_relate_ij()\n",
      "    self.orient: <Orient.NORTH: 1>\n",
      "    self.rel: <SpatialRel.ADJACENT: 1>\n",
      "ic| solution.py:41 in solve_2D_problem()- edge: (1, 2)\n",
      "ic| actions.py:56 in spatial_relate_ij()\n",
      "    self.orient: <Orient.SOUTH: 2>\n",
      "    self.rel: <SpatialRel.INTERSECTING: 2>\n",
      "ic| solution.py:41 in solve_2D_problem()- edge: (2, 3)\n",
      "ic| actions.py:56 in spatial_relate_ij()\n",
      "    self.orient: <Orient.EAST: 3>\n",
      "    self.rel: <SpatialRel.ADJACENT: 1>\n"
     ]
    }
   ],
   "source": [
    "s.solve_2D_problem()"
   ]
  },
  {
   "cell_type": "code",
   "execution_count": 4,
   "metadata": {},
   "outputs": [],
   "source": [
    "p = cn.Problem()\n",
    "p.addVariable(\"x\", range(30))\n",
    "p.addConstraint(lambda x: x < 15)"
   ]
  },
  {
   "cell_type": "code",
   "execution_count": 5,
   "metadata": {},
   "outputs": [
    {
     "ename": "AttributeError",
     "evalue": "'Problem' object has no attribute 'get'",
     "output_type": "error",
     "traceback": [
      "\u001b[0;31m---------------------------------------------------------------------------\u001b[0m",
      "\u001b[0;31mAttributeError\u001b[0m                            Traceback (most recent call last)",
      "\u001b[1;32m/Users/julietnwagwuume-ezeoke/_UILCode/gqe/xie2023/test5.ipynb Cell 5\u001b[0m line \u001b[0;36m1\n\u001b[0;32m----> <a href='vscode-notebook-cell:/Users/julietnwagwuume-ezeoke/_UILCode/gqe/xie2023/test5.ipynb#Y211sZmlsZQ%3D%3D?line=0'>1</a>\u001b[0m p\u001b[39m.\u001b[39;49mget\n",
      "\u001b[0;31mAttributeError\u001b[0m: 'Problem' object has no attribute 'get'"
     ]
    }
   ],
   "source": [
    "p.get"
   ]
  },
  {
   "cell_type": "code",
   "execution_count": null,
   "metadata": {},
   "outputs": [
    {
     "data": {
      "text/plain": [
       "[{'x': 14},\n",
       " {'x': 13},\n",
       " {'x': 12},\n",
       " {'x': 11},\n",
       " {'x': 10},\n",
       " {'x': 9},\n",
       " {'x': 8},\n",
       " {'x': 7},\n",
       " {'x': 6},\n",
       " {'x': 5},\n",
       " {'x': 4},\n",
       " {'x': 3},\n",
       " {'x': 2},\n",
       " {'x': 1},\n",
       " {'x': 0}]"
      ]
     },
     "execution_count": 5,
     "metadata": {},
     "output_type": "execute_result"
    }
   ],
   "source": [
    "s1 = cn.Domain(p.getSolutions())\n",
    "s1"
   ]
  },
  {
   "cell_type": "code",
   "execution_count": null,
   "metadata": {},
   "outputs": [
    {
     "data": {
      "text/plain": [
       "[{'x': 9},\n",
       " {'x': 8},\n",
       " {'x': 7},\n",
       " {'x': 6},\n",
       " {'x': 5},\n",
       " {'x': 4},\n",
       " {'x': 3},\n",
       " {'x': 2},\n",
       " {'x': 1},\n",
       " {'x': 0}]"
      ]
     },
     "execution_count": 6,
     "metadata": {},
     "output_type": "execute_result"
    }
   ],
   "source": [
    "p.addConstraint(lambda x: x < 10)\n",
    "s2 = cn.Domain(p.getSolutions())\n",
    "s2"
   ]
  },
  {
   "cell_type": "code",
   "execution_count": null,
   "metadata": {},
   "outputs": [
    {
     "data": {
      "text/plain": [
       "[{'x': 14},\n",
       " {'x': 13},\n",
       " {'x': 12},\n",
       " {'x': 11},\n",
       " {'x': 10},\n",
       " {'x': 9},\n",
       " {'x': 8},\n",
       " {'x': 7},\n",
       " {'x': 6},\n",
       " {'x': 5},\n",
       " {'x': 4},\n",
       " {'x': 3},\n",
       " {'x': 2},\n",
       " {'x': 1},\n",
       " {'x': 0}]"
      ]
     },
     "execution_count": 7,
     "metadata": {},
     "output_type": "execute_result"
    }
   ],
   "source": [
    "s1"
   ]
  },
  {
   "cell_type": "code",
   "execution_count": null,
   "metadata": {},
   "outputs": [],
   "source": [
    "s = Solution()"
   ]
  }
 ],
 "metadata": {
  "kernelspec": {
   "display_name": "gqenv",
   "language": "python",
   "name": "python3"
  },
  "language_info": {
   "codemirror_mode": {
    "name": "ipython",
    "version": 3
   },
   "file_extension": ".py",
   "mimetype": "text/x-python",
   "name": "python",
   "nbconvert_exporter": "python",
   "pygments_lexer": "ipython3",
   "version": "3.9.15"
  }
 },
 "nbformat": 4,
 "nbformat_minor": 2
}
