{
 "cells": [
  {
   "cell_type": "code",
   "execution_count": 1,
   "metadata": {},
   "outputs": [],
   "source": [
    "import matplotlib.pyplot as plt\n",
    "import plotly.graph_objects as go\n",
    "import numpy as np\n",
    "\n",
    "import networkx as nx\n",
    "import constraint as cn\n",
    "\n",
    "from operator import itemgetter\n",
    "\n",
    "from helpers import *\n",
    "from setup import *\n",
    "from actions import * \n",
    "from solution import *\n",
    "from visuals import * \n",
    "from graph_data import * "
   ]
  },
  {
   "cell_type": "code",
   "execution_count": 2,
   "metadata": {},
   "outputs": [],
   "source": [
    "s = Solution()"
   ]
  },
  {
   "cell_type": "code",
   "execution_count": 3,
   "metadata": {},
   "outputs": [
    {
     "name": "stderr",
     "output_type": "stream",
     "text": [
      "ic| solution.py:40 in solve_2D_problem()\n",
      "    f\"{edge, orient}\": '((0, 1), <Orient.NORTH: 1>)'\n",
      "ic| actions.py:41 in secondary_relate()- prop: 3\n",
      "ic| actions.py:83 in relate_process()\n",
      "    \"setting faces because 2nd rel no fail\": 'setting faces because 2nd rel no fail'\n",
      "ic| solution.py:47 in solve_2D_problem()- res: None\n",
      "ic| solution.py:40 in solve_2D_problem()\n",
      "    f\"{edge, orient}\": '((1, 2), <Orient.SOUTH: 2>)'\n",
      "ic| actions.py:41 in secondary_relate()- prop: 3\n",
      "ic| actions.py:83 in relate_process()\n",
      "    \"setting faces because 2nd rel no fail\": 'setting faces because 2nd rel no fail'\n",
      "ic| solution.py:47 in solve_2D_problem()- res: None\n",
      "ic| solution.py:40 in solve_2D_problem()\n",
      "    f\"{edge, orient}\": '((2, 3), <Orient.EAST: 3>)'\n",
      "ic| actions.py:41 in secondary_relate()- prop: 1\n",
      "ic| actions.py:83 in relate_process()\n",
      "    \"setting faces because 2nd rel no fail\": 'setting faces because 2nd rel no fail'\n",
      "ic| solution.py:47 in solve_2D_problem()- res: None\n",
      "ic| solution.py:40 in solve_2D_problem()\n",
      "    f\"{edge, orient}\": '((3, 1), <Orient.WEST: 4>)'\n",
      "ic| actions.py:41 in secondary_relate()- prop: 3\n",
      "/Users/julietnwagwuume-ezeoke/_UILCode/gqe/xie2023/actions.py:76: UserWarning:\n",
      "\n",
      "Secondary relate failed\n",
      "\n",
      "ic| actions.py:145 in assess_failure()\n",
      "    \"\\n\": '\n",
      "           '\n",
      "ic| actions.py:146 in assess_failure()\n",
      "    f\"Face tried to move: {facej.full_name}\": 'Face tried to move: 1.faceS'\n",
      "ic| actions.py:147 in assess_failure()\n",
      "    f\"Previous states: {facej.state} \": 'Previous states: [(0, 49), [13]] '\n",
      "ic| actions.py:148 in assess_failure()\n",
      "    f\"Constraining domain: {domain}\": 'Constraining domain: (8, 12)'\n",
      "ic| actions.py:153 in assess_failure()\n",
      "    f\"Constraining face: {facei[0].full_name}\": 'Constraining face: 3.faceS'\n",
      "ic| actions.py:154 in assess_failure()\n",
      "    f\"Constraining face: {facei[1].full_name}\": 'Constraining face: 3.faceN'\n",
      "ic| actions.py:155 in assess_failure()\n",
      "    f\"Previous states of constraining face: {facei[0].state} \": 'Previous states of constraining face: [(0, 49), (10, 12)] '\n",
      "ic| actions.py:156 in assess_failure()\n",
      "    f\"Previous states of constraining face: {facei[1].state} \": 'Previous states of constraining face: [(0, 49), (11, 13)] '\n",
      "ic| actions.py:158 in assess_failure()\n",
      "    f\"Node relation: {self.ni.index}-{self.nj.index} {self.orient}\": 'Node relation: 3-1 Orient.WEST'\n",
      "ic| solution.py:47 in solve_2D_problem()\n",
      "    res: {'constraining_domain': (8, 12),\n",
      "          'constraining_face': (<helpers.Face object at 0x148658f40>,\n",
      "                                <helpers.Face object at 0x148658dc0>),\n",
      "          'problem_face': <helpers.Face object at 0x148658670>}\n",
      "ic| move.py:31 in construct_move()\n",
      "    moving_domain: (10, 12)\n",
      "    constrain_domain: (8, 12)\n",
      "    prob_domain: [13]\n",
      "ic| move.py:99 in assess_move()- mag: -1\n",
      "ic| move.py:99 in assess_move()- mag: 2\n",
      "ic| move.py:38 in construct_move()- m1: -1, m2: 2\n",
      "ic| move.py:41 in construct_move()- moving_domain2: (11, 13)\n",
      "ic| move.py:99 in assess_move()- mag: 3\n",
      "ic| move.py:43 in construct_move()- m3: 3\n",
      "ic| solution.py:53 in solve_2D_problem()\n",
      "    \"trying spatial relate again\": 'trying spatial relate again'\n",
      "ic| actions.py:41 in secondary_relate()- prop: 3\n",
      "ic| actions.py:48 in secondary_relate()\n",
      "    \"yyy\": 'yyy'\n",
      "    face_i1.sols: [14, 13]\n",
      "    face_i2.sols: [15, 14]\n",
      "    set1: [12, 11]\n",
      "    set2: [14, 13]\n",
      "    face_j.getSolutions(): [{<Axes.Y: 1>: 13}]\n",
      "ic| actions.py:83 in relate_process()\n",
      "    \"setting faces because 2nd rel no fail\": 'setting faces because 2nd rel no fail'\n"
     ]
    }
   ],
   "source": [
    "s.solve_2D_problem()"
   ]
  },
  {
   "cell_type": "code",
   "execution_count": null,
   "metadata": {},
   "outputs": [],
   "source": []
  },
  {
   "cell_type": "code",
   "execution_count": 4,
   "metadata": {},
   "outputs": [],
   "source": [
    "def variable_constraint2(x, dist: int):\n",
    "    set1 = [ix - dist + THRESHOLD for ix  in [14,13]]\n",
    "    set2 = [ix - THRESHOLD for ix in [15, 14]]\n",
    "\n",
    "    valid_len = len(set1) if len(set1) < len(set2) else len(set2)\n",
    "    for i in list(range(valid_len)):\n",
    "        ic(set1[i], x, set2[i])\n",
    "        if set1[i] <= x <= set2[i]:\n",
    "            return x"
   ]
  },
  {
   "cell_type": "code",
   "execution_count": 5,
   "metadata": {},
   "outputs": [
    {
     "name": "stderr",
     "output_type": "stream",
     "text": [
      "ic| 582768976.py:7 in variable_constraint2()\n",
      "    set1[i]: 12\n",
      "    x: 13\n",
      "    set2[i]: 14\n"
     ]
    },
    {
     "data": {
      "text/plain": [
       "[{'x': 13}]"
      ]
     },
     "execution_count": 5,
     "metadata": {},
     "output_type": "execute_result"
    }
   ],
   "source": [
    "p = cn.Problem()\n",
    "p.addVariable(\"x\", range(100))\n",
    "p.addConstraint(cn.InSetConstraint([13]))\n",
    "p.addConstraint(lambda x: variable_constraint2(x, 3))\n",
    "p.getSolutions()"
   ]
  }
 ],
 "metadata": {
  "kernelspec": {
   "display_name": "gqenv",
   "language": "python",
   "name": "python3"
  },
  "language_info": {
   "codemirror_mode": {
    "name": "ipython",
    "version": 3
   },
   "file_extension": ".py",
   "mimetype": "text/x-python",
   "name": "python",
   "nbconvert_exporter": "python",
   "pygments_lexer": "ipython3",
   "version": "3.9.15"
  }
 },
 "nbformat": 4,
 "nbformat_minor": 2
}
