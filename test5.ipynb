{
 "cells": [
  {
   "cell_type": "code",
   "execution_count": 6,
   "metadata": {},
   "outputs": [],
   "source": [
    "import matplotlib.pyplot as plt\n",
    "import plotly.graph_objects as go\n",
    "import numpy as np\n",
    "\n",
    "import networkx as nx\n",
    "import constraint as cn\n",
    "\n",
    "from operator import itemgetter\n",
    "\n",
    "from helpers import *\n",
    "from setup import *\n",
    "from actions import * \n",
    "from solution import *\n",
    "from visuals import * \n",
    "from graph_data import * "
   ]
  },
  {
   "cell_type": "code",
   "execution_count": 7,
   "metadata": {},
   "outputs": [],
   "source": [
    "p = cn.Problem()\n",
    "p.addVariable(\"x\", range(100))\n",
    "# p.addConstraint(lambda x: x > 20)\n",
    "# p.getSolutions()"
   ]
  },
  {
   "cell_type": "code",
   "execution_count": 8,
   "metadata": {},
   "outputs": [],
   "source": [
    "def variable_constraint(x):\n",
    "        l = 12\n",
    "        set1 = [ix - l + THRESHOLD for ix  in range(10,18)]\n",
    "        set2 = [ix - THRESHOLD for ix in range(11,15)]\n",
    "\n",
    "        valid_len = len(set1) if len(set1) < len(set2) else len(set2)\n",
    "        for i in list(range(valid_len)):\n",
    "            if set1[i] <= x <= set2[i]:\n",
    "                return x\n",
    "\n",
    "p.addConstraint(lambda x: variable_constraint(x))"
   ]
  },
  {
   "cell_type": "code",
   "execution_count": 9,
   "metadata": {},
   "outputs": [
    {
     "data": {
      "text/plain": [
       "[{'x': 13},\n",
       " {'x': 12},\n",
       " {'x': 11},\n",
       " {'x': 10},\n",
       " {'x': 9},\n",
       " {'x': 8},\n",
       " {'x': 7},\n",
       " {'x': 6},\n",
       " {'x': 5},\n",
       " {'x': 4},\n",
       " {'x': 3},\n",
       " {'x': 2},\n",
       " {'x': 1}]"
      ]
     },
     "execution_count": 9,
     "metadata": {},
     "output_type": "execute_result"
    }
   ],
   "source": [
    "p.getSolutions()"
   ]
  },
  {
   "cell_type": "code",
   "execution_count": 10,
   "metadata": {},
   "outputs": [],
   "source": [
    "s = Solution()"
   ]
  },
  {
   "cell_type": "code",
   "execution_count": 11,
   "metadata": {},
   "outputs": [
    {
     "name": "stderr",
     "output_type": "stream",
     "text": [
      "ic| solution.py:37 in solve_2D_problem()\n",
      "    f\"{edge, orient}\": '((0, 1), <Orient.NORTH: 1>)'\n",
      "ic| solution.py:37 in solve_2D_problem()\n",
      "    f\"{edge, orient}\": '((1, 2), <Orient.SOUTH: 2>)'\n",
      "ic| solution.py:37 in solve_2D_problem()\n",
      "    f\"{edge, orient}\": '((2, 3), <Orient.EAST: 3>)'\n",
      "ic| solution.py:37 in solve_2D_problem()\n",
      "    f\"{edge, orient}\": '((3, 1), <Orient.WEST: 4>)'\n",
      "ic| actions.py:144 in assess_failure()\n",
      "    \"\\n\": '\n",
      "           '\n",
      "ic| actions.py:145 in assess_failure()\n",
      "    f\"Face tried to move: {self.nj.index}.{face.name}\": 'Face tried to move: 1.faceS'\n",
      "ic| actions.py:146 in assess_failure()\n",
      "    f\"Previous states: {face.state} \": 'Previous states: [(0, 49), [13]] '\n",
      "ic| actions.py:147 in assess_failure()\n",
      "    f\"Constraining domain: {domain}\": 'Constraining domain: (8, 12)'\n",
      "ic| actions.py:148 in assess_failure()\n",
      "    f\"Node relation: {self.ni.index}-{self.nj.index} {self."
     ]
    },
    {
     "name": "stderr",
     "output_type": "stream",
     "text": [
      "orient}\": 'Node relation: 3-1 Orient.WEST'\n"
     ]
    },
    {
     "ename": "RuntimeError",
     "evalue": "Secondary relate failed",
     "output_type": "error",
     "traceback": [
      "\u001b[0;31m---------------------------------------------------------------------------\u001b[0m",
      "\u001b[0;31mNoSolError\u001b[0m                                Traceback (most recent call last)",
      "File \u001b[0;32m~/_UILCode/gqe/xie2023/actions.py:70\u001b[0m, in \u001b[0;36mActions.relate_process\u001b[0;34m(self, face_j, face_i1, face_i2)\u001b[0m\n\u001b[1;32m     69\u001b[0m     face, domain \u001b[39m=\u001b[39m \u001b[39mself\u001b[39m\u001b[39m.\u001b[39msecondary_relate(face_j, face_i1, face_i2)\n\u001b[0;32m---> 70\u001b[0m     face\u001b[39m.\u001b[39;49mstate_update()\n\u001b[1;32m     71\u001b[0m \u001b[39mexcept\u001b[39;00m NoSolError:\n",
      "File \u001b[0;32m~/_UILCode/gqe/xie2023/helpers.py:104\u001b[0m, in \u001b[0;36mFace.state_update\u001b[0;34m(self)\u001b[0m\n\u001b[1;32m    103\u001b[0m \u001b[39mdef\u001b[39;00m \u001b[39mstate_update\u001b[39m(\u001b[39mself\u001b[39m):\n\u001b[0;32m--> 104\u001b[0m     \u001b[39mif\u001b[39;00m \u001b[39mself\u001b[39;49m\u001b[39m.\u001b[39;49mget_face_sols():\n\u001b[1;32m    105\u001b[0m         \u001b[39mself\u001b[39m\u001b[39m.\u001b[39mstate\u001b[39m.\u001b[39mappend(domain_range(\u001b[39mself\u001b[39m\u001b[39m.\u001b[39msols))\n",
      "File \u001b[0;32m~/_UILCode/gqe/xie2023/helpers.py:92\u001b[0m, in \u001b[0;36mFace.get_face_sols\u001b[0;34m(self)\u001b[0m\n\u001b[1;32m     91\u001b[0m \u001b[39mif\u001b[39;00m \u001b[39mnot\u001b[39;00m \u001b[39mself\u001b[39m\u001b[39m.\u001b[39msols:\n\u001b[0;32m---> 92\u001b[0m     \u001b[39mraise\u001b[39;00m NoSolError(\u001b[39mf\u001b[39m\u001b[39m\"\u001b[39m\u001b[39mNo sols for \u001b[39m\u001b[39m{\u001b[39;00m\u001b[39mself\u001b[39m\u001b[39m.\u001b[39mparent_node\u001b[39m}\u001b[39;00m\u001b[39m.\u001b[39m\u001b[39m{\u001b[39;00m\u001b[39mself\u001b[39m\u001b[39m.\u001b[39mname\u001b[39m}\u001b[39;00m\u001b[39m \u001b[39m\u001b[39m\"\u001b[39m)\n\u001b[1;32m     93\u001b[0m \u001b[39mself\u001b[39m\u001b[39m.\u001b[39morig_sols \u001b[39m=\u001b[39m \u001b[39mTrue\u001b[39;00m \u001b[39mif\u001b[39;00m \u001b[39mset\u001b[39m(\u001b[39mself\u001b[39m\u001b[39m.\u001b[39msols) \u001b[39m==\u001b[39m \u001b[39mset\u001b[39m(\u001b[39mself\u001b[39m\u001b[39m.\u001b[39mnrange) \u001b[39melse\u001b[39;00m \u001b[39mFalse\u001b[39;00m\n",
      "\u001b[0;31mNoSolError\u001b[0m: No sols for 1.faceS ",
      "\nDuring handling of the above exception, another exception occurred:\n",
      "\u001b[0;31mRuntimeError\u001b[0m                              Traceback (most recent call last)",
      "\u001b[1;32m/Users/julietnwagwuume-ezeoke/_UILCode/gqe/xie2023/test5.ipynb Cell 6\u001b[0m line \u001b[0;36m1\n\u001b[0;32m----> <a href='vscode-notebook-cell:/Users/julietnwagwuume-ezeoke/_UILCode/gqe/xie2023/test5.ipynb#Y210sZmlsZQ%3D%3D?line=0'>1</a>\u001b[0m s\u001b[39m.\u001b[39;49msolve_2D_problem()\n",
      "File \u001b[0;32m~/_UILCode/gqe/xie2023/solution.py:41\u001b[0m, in \u001b[0;36mSolution.solve_2D_problem\u001b[0;34m(self)\u001b[0m\n\u001b[1;32m     37\u001b[0m ic(\u001b[39mf\u001b[39m\u001b[39m\"\u001b[39m\u001b[39m{\u001b[39;00medge,\u001b[39m \u001b[39morient\u001b[39m}\u001b[39;00m\u001b[39m\"\u001b[39m)\n\u001b[1;32m     39\u001b[0m \u001b[39mself\u001b[39m\u001b[39m.\u001b[39mvisited_nodes\u001b[39m.\u001b[39mappend(nj\u001b[39m.\u001b[39mindex)\n\u001b[0;32m---> 41\u001b[0m a\u001b[39m.\u001b[39;49mspatial_relate_ij(ni, nj, orient, rel)\n\u001b[1;32m     43\u001b[0m \u001b[39m# complete rel \u001b[39;00m\n\u001b[1;32m     44\u001b[0m nj\u001b[39m.\u001b[39mcorrect_nb\u001b[39m.\u001b[39mappend(ni)\n",
      "File \u001b[0;32m~/_UILCode/gqe/xie2023/actions.py:93\u001b[0m, in \u001b[0;36mActions.spatial_relate_ij\u001b[0;34m(self, ni, nj, orient, rel)\u001b[0m\n\u001b[1;32m     90\u001b[0m         \u001b[39mself\u001b[39m\u001b[39m.\u001b[39mrelate_process(\u001b[39mself\u001b[39m\u001b[39m.\u001b[39mnj\u001b[39m.\u001b[39mfaces\u001b[39m.\u001b[39mfaceW, \u001b[39mself\u001b[39m\u001b[39m.\u001b[39mni\u001b[39m.\u001b[39mfaces\u001b[39m.\u001b[39mfaceW, \u001b[39mself\u001b[39m\u001b[39m.\u001b[39mni\u001b[39m.\u001b[39mfaces\u001b[39m.\u001b[39mfaceE)\n\u001b[1;32m     92\u001b[0m     \u001b[39mif\u001b[39;00m \u001b[39mself\u001b[39m\u001b[39m.\u001b[39morient \u001b[39m==\u001b[39m Orient\u001b[39m.\u001b[39mEAST \u001b[39mor\u001b[39;00m \u001b[39mself\u001b[39m\u001b[39m.\u001b[39morient \u001b[39m==\u001b[39m Orient\u001b[39m.\u001b[39mWEST:\n\u001b[0;32m---> 93\u001b[0m         \u001b[39mself\u001b[39;49m\u001b[39m.\u001b[39;49mrelate_process(\u001b[39mself\u001b[39;49m\u001b[39m.\u001b[39;49mnj\u001b[39m.\u001b[39;49mfaces\u001b[39m.\u001b[39;49mfaceS, \u001b[39mself\u001b[39;49m\u001b[39m.\u001b[39;49mni\u001b[39m.\u001b[39;49mfaces\u001b[39m.\u001b[39;49mfaceS, \u001b[39mself\u001b[39;49m\u001b[39m.\u001b[39;49mni\u001b[39m.\u001b[39;49mfaces\u001b[39m.\u001b[39;49mfaceN) \n\u001b[1;32m     95\u001b[0m \u001b[39melse\u001b[39;00m:\n\u001b[1;32m     96\u001b[0m     ic(\u001b[39mf\u001b[39m\u001b[39m\"\u001b[39m\u001b[39mAction for \u001b[39m\u001b[39m{\u001b[39;00morient\u001b[39m}\u001b[39;00m\u001b[39m not defined\u001b[39m\u001b[39m\"\u001b[39m)\n",
      "File \u001b[0;32m~/_UILCode/gqe/xie2023/actions.py:73\u001b[0m, in \u001b[0;36mActions.relate_process\u001b[0;34m(self, face_j, face_i1, face_i2)\u001b[0m\n\u001b[1;32m     71\u001b[0m \u001b[39mexcept\u001b[39;00m NoSolError:\n\u001b[1;32m     72\u001b[0m         \u001b[39mself\u001b[39m\u001b[39m.\u001b[39massess_failure(face, domain)\n\u001b[0;32m---> 73\u001b[0m         \u001b[39mraise\u001b[39;00m \u001b[39mRuntimeError\u001b[39;00m(\u001b[39m\"\u001b[39m\u001b[39mSecondary relate failed\u001b[39m\u001b[39m\"\u001b[39m)\n\u001b[1;32m     75\u001b[0m \u001b[39mself\u001b[39m\u001b[39m.\u001b[39mset_face_rel()\n\u001b[1;32m     76\u001b[0m \u001b[39mself\u001b[39m\u001b[39m.\u001b[39mfinal_check()\n",
      "\u001b[0;31mRuntimeError\u001b[0m: Secondary relate failed"
     ]
    }
   ],
   "source": [
    "s.solve_2D_problem()"
   ]
  },
  {
   "cell_type": "code",
   "execution_count": null,
   "metadata": {},
   "outputs": [
    {
     "data": {
      "text/plain": [
       "{'faceN': [(0, 49), [13], [13]],\n",
       " 'faceS': [(0, 49), [10]],\n",
       " 'faceE': [(0, 49), (9, 17)],\n",
       " 'faceW': [(0, 49), (6, 14)],\n",
       " 'faceT': [(0, 49)],\n",
       " 'faceB': [(0, 49)]}"
      ]
     },
     "execution_count": 4,
     "metadata": {},
     "output_type": "execute_result"
    }
   ],
   "source": [
    "s.get_node_history(2) "
   ]
  },
  {
   "cell_type": "code",
   "execution_count": null,
   "metadata": {},
   "outputs": [
    {
     "data": {
      "text/plain": [
       "{'faceN': [(0, 49), [16]],\n",
       " 'faceS': [(0, 49), [13]],\n",
       " 'faceE': [(0, 49), (11, 15)],\n",
       " 'faceW': [(0, 49), (8, 12)],\n",
       " 'faceT': [(0, 49)],\n",
       " 'faceB': [(0, 49)]}"
      ]
     },
     "execution_count": 5,
     "metadata": {},
     "output_type": "execute_result"
    }
   ],
   "source": [
    "s.get_node_history(1) "
   ]
  },
  {
   "cell_type": "code",
   "execution_count": null,
   "metadata": {},
   "outputs": [
    {
     "data": {
      "text/plain": [
       "{'faceN': [(0, 49), (11, 13)],\n",
       " 'faceS': [(0, 49), (10, 12)],\n",
       " 'faceE': [(0, 49), (10, 18)],\n",
       " 'faceW': [(0, 49), (9, 17)],\n",
       " 'faceT': [(0, 49)],\n",
       " 'faceB': [(0, 49)]}"
      ]
     },
     "execution_count": 6,
     "metadata": {},
     "output_type": "execute_result"
    }
   ],
   "source": [
    "s.get_node_history(3)"
   ]
  },
  {
   "cell_type": "code",
   "execution_count": null,
   "metadata": {},
   "outputs": [
    {
     "data": {
      "text/plain": [
       "{'faceN': [(0, 49), [13]],\n",
       " 'faceS': [(0, 49), [10]],\n",
       " 'faceE': [(0, 49), [13]],\n",
       " 'faceW': [(0, 49), [10]],\n",
       " 'faceT': [(0, 49), [3]],\n",
       " 'faceB': [(0, 49), [0]]}"
      ]
     },
     "execution_count": 7,
     "metadata": {},
     "output_type": "execute_result"
    }
   ],
   "source": [
    "s.get_node_history(0)"
   ]
  }
 ],
 "metadata": {
  "kernelspec": {
   "display_name": "gqenv",
   "language": "python",
   "name": "python3"
  },
  "language_info": {
   "codemirror_mode": {
    "name": "ipython",
    "version": 3
   },
   "file_extension": ".py",
   "mimetype": "text/x-python",
   "name": "python",
   "nbconvert_exporter": "python",
   "pygments_lexer": "ipython3",
   "version": "3.9.15"
  }
 },
 "nbformat": 4,
 "nbformat_minor": 2
}
