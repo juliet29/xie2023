{
 "cells": [
  {
   "cell_type": "code",
   "execution_count": 1,
   "metadata": {},
   "outputs": [],
   "source": [
    "import matplotlib.pyplot as plt\n",
    "import plotly.graph_objects as go\n",
    "import numpy as np\n",
    "\n",
    "import networkx as nx\n",
    "import constraint as cn\n",
    "\n",
    "from operator import itemgetter\n",
    "\n",
    "from helpers import *\n",
    "from setup import *\n",
    "from actions import * \n",
    "from solution import *\n",
    "from visuals import * \n",
    "from graph_data import * "
   ]
  },
  {
   "cell_type": "code",
   "execution_count": 2,
   "metadata": {},
   "outputs": [],
   "source": [
    "s = Solution()"
   ]
  },
  {
   "cell_type": "code",
   "execution_count": 3,
   "metadata": {},
   "outputs": [
    {
     "ename": "KeyError",
     "evalue": "<Orient.NORTH: 1>",
     "output_type": "error",
     "traceback": [
      "\u001b[0;31m---------------------------------------------------------------------------\u001b[0m",
      "\u001b[0;31mKeyError\u001b[0m                                  Traceback (most recent call last)",
      "\u001b[1;32m/Users/julietnwagwuume-ezeoke/_UILCode/gqe/xie2023/test5.ipynb Cell 3\u001b[0m line \u001b[0;36m1\n\u001b[0;32m----> <a href='vscode-notebook-cell:/Users/julietnwagwuume-ezeoke/_UILCode/gqe/xie2023/test5.ipynb#Y106sZmlsZQ%3D%3D?line=0'>1</a>\u001b[0m s\u001b[39m.\u001b[39;49msolve_2D_problem()\n",
      "File \u001b[0;32m~/_UILCode/gqe/xie2023/solution.py:51\u001b[0m, in \u001b[0;36mSolution.solve_2D_problem\u001b[0;34m(self)\u001b[0m\n\u001b[1;32m     48\u001b[0m \u001b[39mself\u001b[39m\u001b[39m.\u001b[39mnb_track[nj\u001b[39m.\u001b[39mindex]\u001b[39m.\u001b[39mcurrent_nb \u001b[39m=\u001b[39m ni\u001b[39m.\u001b[39mindex\n\u001b[1;32m     50\u001b[0m \u001b[39m# orient # TODO fix basis in orient function \u001b[39;00m\n\u001b[0;32m---> 51\u001b[0m a\u001b[39m.\u001b[39;49morient_ij(ni, nj, orient)\n\u001b[1;32m     52\u001b[0m em_check, fig \u001b[39m=\u001b[39m a\u001b[39m.\u001b[39mcheck(ni, nj, viz\u001b[39m=\u001b[39m\u001b[39mTrue\u001b[39;00m)\n\u001b[1;32m     53\u001b[0m \u001b[39mself\u001b[39m\u001b[39m.\u001b[39mprocess_track[\u001b[39mf\u001b[39m\u001b[39m\"\u001b[39m\u001b[39m{\u001b[39;00medge\u001b[39m}\u001b[39;00m\u001b[39m\"\u001b[39m]\u001b[39m.\u001b[39mfigs[\u001b[39m\"\u001b[39m\u001b[39morient\u001b[39m\u001b[39m\"\u001b[39m] \u001b[39m=\u001b[39m fig\n",
      "File \u001b[0;32m~/_UILCode/gqe/xie2023/actions.py:48\u001b[0m, in \u001b[0;36mActions.orient_ij\u001b[0;34m(self, ni, nj, orient)\u001b[0m\n\u001b[1;32m     41\u001b[0m nj \u001b[39m=\u001b[39m nj\u001b[39m.\u001b[39mfaces\n\u001b[1;32m     42\u001b[0m d \u001b[39m=\u001b[39m {\n\u001b[1;32m     43\u001b[0m     Orient\u001b[39m.\u001b[39mSOUTH: (nj\u001b[39m.\u001b[39mfaceN, ni\u001b[39m.\u001b[39mfaceS),\n\u001b[1;32m     44\u001b[0m     Orient\u001b[39m.\u001b[39mWEST: (nj\u001b[39m.\u001b[39mfaceE, ni\u001b[39m.\u001b[39mfaceW),\n\u001b[1;32m     45\u001b[0m     Orient\u001b[39m.\u001b[39mBOTTOM: (nj\u001b[39m.\u001b[39mfaceT, ni\u001b[39m.\u001b[39mfaceB),\n\u001b[1;32m     46\u001b[0m }\n\u001b[0;32m---> 48\u001b[0m \u001b[39mself\u001b[39m\u001b[39m.\u001b[39m__add_orientation_constraint(\u001b[39m*\u001b[39md[orient])\n\u001b[1;32m     49\u001b[0m \u001b[39mreturn\u001b[39;00m\n",
      "\u001b[0;31mKeyError\u001b[0m: <Orient.NORTH: 1>"
     ]
    }
   ],
   "source": [
    "s.solve_2D_problem()"
   ]
  },
  {
   "cell_type": "code",
   "execution_count": 7,
   "metadata": {},
   "outputs": [
    {
     "data": {
      "text/plain": [
       "{0: {'current_nb': None, 'correct_nb': []},\n",
       " 1: {'current_nb': 0, 'correct_nb': []},\n",
       " 2: {'current_nb': None, 'correct_nb': []},\n",
       " 3: {'current_nb': None, 'correct_nb': []}}"
      ]
     },
     "execution_count": 7,
     "metadata": {},
     "output_type": "execute_result"
    }
   ],
   "source": [
    "{k:vars(v) for k, v in s.nb_track.items()}"
   ]
  }
 ],
 "metadata": {
  "kernelspec": {
   "display_name": "gqenv",
   "language": "python",
   "name": "python3"
  },
  "language_info": {
   "codemirror_mode": {
    "name": "ipython",
    "version": 3
   },
   "file_extension": ".py",
   "mimetype": "text/x-python",
   "name": "python",
   "nbconvert_exporter": "python",
   "pygments_lexer": "ipython3",
   "version": "3.9.15"
  }
 },
 "nbformat": 4,
 "nbformat_minor": 2
}
