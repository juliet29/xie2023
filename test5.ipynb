{
 "cells": [
  {
   "cell_type": "code",
   "execution_count": 1,
   "metadata": {},
   "outputs": [],
   "source": [
    "import matplotlib.pyplot as plt\n",
    "import plotly.graph_objects as go\n",
    "import numpy as np\n",
    "\n",
    "import networkx as nx\n",
    "import constraint as cn\n",
    "\n",
    "from operator import itemgetter\n",
    "\n",
    "from helpers import *\n",
    "from setup import *\n",
    "from actions import * \n",
    "from solution import *\n",
    "from visuals import * \n",
    "from graph_data import * "
   ]
  },
  {
   "cell_type": "code",
   "execution_count": 12,
   "metadata": {},
   "outputs": [],
   "source": [
    "p = cn.Problem()\n",
    "p.addVariable(\"x\", range(30))\n",
    "p.addConstraint(lambda x: x < 15)"
   ]
  },
  {
   "cell_type": "code",
   "execution_count": 13,
   "metadata": {},
   "outputs": [
    {
     "data": {
      "text/plain": [
       "[{'x': 14},\n",
       " {'x': 13},\n",
       " {'x': 12},\n",
       " {'x': 11},\n",
       " {'x': 10},\n",
       " {'x': 9},\n",
       " {'x': 8},\n",
       " {'x': 7},\n",
       " {'x': 6},\n",
       " {'x': 5},\n",
       " {'x': 4},\n",
       " {'x': 3},\n",
       " {'x': 2},\n",
       " {'x': 1},\n",
       " {'x': 0}]"
      ]
     },
     "execution_count": 13,
     "metadata": {},
     "output_type": "execute_result"
    }
   ],
   "source": [
    "s1 = cn.Domain(p.getSolutions())\n",
    "s1"
   ]
  },
  {
   "cell_type": "code",
   "execution_count": 14,
   "metadata": {},
   "outputs": [
    {
     "data": {
      "text/plain": [
       "[{'x': 9},\n",
       " {'x': 8},\n",
       " {'x': 7},\n",
       " {'x': 6},\n",
       " {'x': 5},\n",
       " {'x': 4},\n",
       " {'x': 3},\n",
       " {'x': 2},\n",
       " {'x': 1},\n",
       " {'x': 0}]"
      ]
     },
     "execution_count": 14,
     "metadata": {},
     "output_type": "execute_result"
    }
   ],
   "source": [
    "p.addConstraint(lambda x: x < 10)\n",
    "s2 = cn.Domain(p.getSolutions())\n",
    "s2"
   ]
  },
  {
   "cell_type": "code",
   "execution_count": 15,
   "metadata": {},
   "outputs": [
    {
     "data": {
      "text/plain": [
       "[{'x': 14},\n",
       " {'x': 13},\n",
       " {'x': 12},\n",
       " {'x': 11},\n",
       " {'x': 10},\n",
       " {'x': 9},\n",
       " {'x': 8},\n",
       " {'x': 7},\n",
       " {'x': 6},\n",
       " {'x': 5},\n",
       " {'x': 4},\n",
       " {'x': 3},\n",
       " {'x': 2},\n",
       " {'x': 1},\n",
       " {'x': 0}]"
      ]
     },
     "execution_count": 15,
     "metadata": {},
     "output_type": "execute_result"
    }
   ],
   "source": [
    "s1"
   ]
  },
  {
   "cell_type": "code",
   "execution_count": 2,
   "metadata": {},
   "outputs": [],
   "source": [
    "s = Solution()"
   ]
  }
 ],
 "metadata": {
  "kernelspec": {
   "display_name": "gqenv",
   "language": "python",
   "name": "python3"
  },
  "language_info": {
   "codemirror_mode": {
    "name": "ipython",
    "version": 3
   },
   "file_extension": ".py",
   "mimetype": "text/x-python",
   "name": "python",
   "nbconvert_exporter": "python",
   "pygments_lexer": "ipython3",
   "version": "3.9.15"
  }
 },
 "nbformat": 4,
 "nbformat_minor": 2
}
