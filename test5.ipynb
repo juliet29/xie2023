{
 "cells": [
  {
   "cell_type": "code",
   "execution_count": 1,
   "metadata": {},
   "outputs": [],
   "source": [
    "import matplotlib.pyplot as plt\n",
    "import plotly.graph_objects as go\n",
    "import numpy as np\n",
    "\n",
    "import networkx as nx\n",
    "import constraint as cn\n",
    "\n",
    "from operator import itemgetter\n",
    "\n",
    "from helpers import *\n",
    "from setup import *\n",
    "from actions import * \n",
    "from solution import *\n",
    "from visuals import * \n",
    "from graph_data import * "
   ]
  },
  {
   "cell_type": "code",
   "execution_count": 2,
   "metadata": {},
   "outputs": [],
   "source": [
    "s = Solution()"
   ]
  },
  {
   "cell_type": "code",
   "execution_count": 3,
   "metadata": {},
   "outputs": [
    {
     "name": "stderr",
     "output_type": "stream",
     "text": [
      "ic| solution.py:40 in solve_2D_problem()\n",
      "    f\"{edge, orient}\": '((0, 1), <Orient.NORTH: 1>)'\n",
      "ic| solution.py:40 in solve_2D_problem()\n",
      "    f\"{edge, orient}\": '((1, 2), <Orient.SOUTH: 2>)'\n",
      "ic| solution.py:40 in solve_2D_problem()\n",
      "    f\"{edge, orient}\": '((2, 3), <Orient.EAST: 3>)'\n",
      "ic| solution.py:40 in solve_2D_problem()\n",
      "    f\"{edge, orient}\": '((3, 1), <Orient.WEST: 4>)'\n",
      "/Users/julietnwagwuume-ezeoke/_UILCode/gqe/xie2023/actions.py:75: UserWarning:\n",
      "\n",
      "Secondary relate failed\n",
      "\n",
      "ic| solution.py:52 in solve_2D_problem()\n",
      "    \"trying spatial relate again\": 'trying spatial relate again'\n",
      "ic| actions.py:47 in secondary_relate()\n",
      "    \"yyy\": 'yyy'\n",
      "    face_i1.sols: [14, 13]\n",
      "    face_i2.sols: [15, 14]\n",
      "    set1: [12, 11]\n",
      "    set2: [14, 13]\n",
      "    face_j.getSolutions(): [{<Axes.Y: 1>: 13}]\n"
     ]
    }
   ],
   "source": [
    "s.solve_2D_problem()"
   ]
  },
  {
   "cell_type": "code",
   "execution_count": 7,
   "metadata": {},
   "outputs": [
    {
     "data": {
      "text/plain": [
       "{'faceN': [(0, 49), (11, 13), (14, 15)],\n",
       " 'faceS': [(0, 49), (10, 12), (13, 14)],\n",
       " 'faceE': [(0, 49), (10, 18)],\n",
       " 'faceW': [(0, 49), (9, 17)],\n",
       " 'faceT': [(0, 49)],\n",
       " 'faceB': [(0, 49)]}"
      ]
     },
     "execution_count": 7,
     "metadata": {},
     "output_type": "execute_result"
    }
   ],
   "source": [
    "s.get_node_history(3)"
   ]
  },
  {
   "cell_type": "code",
   "execution_count": 6,
   "metadata": {},
   "outputs": [
    {
     "data": {
      "text/plain": [
       "{'faceN': [(0, 49), [16], [16]],\n",
       " 'faceS': [(0, 49), [13], [13], [13]],\n",
       " 'faceE': [(0, 49), (11, 15), (11, 15), (11, 15), (11, 15)],\n",
       " 'faceW': [(0, 49), (8, 12), (8, 12)],\n",
       " 'faceT': [(0, 49)],\n",
       " 'faceB': [(0, 49)]}"
      ]
     },
     "execution_count": 6,
     "metadata": {},
     "output_type": "execute_result"
    }
   ],
   "source": [
    "s.get_node_history(1)"
   ]
  },
  {
   "cell_type": "code",
   "execution_count": 18,
   "metadata": {},
   "outputs": [
    {
     "name": "stderr",
     "output_type": "stream",
     "text": [
      "ic| 1795623223.py:9 in <module>\n",
      "    ni.index: 1\n",
      "    nj.index: 0\n",
      "    orient: <Orient.SOUTH: 2>\n",
      "ic| 1795623223.py:9 in <module>\n",
      "    ni.index: 1\n",
      "    nj.index: 2\n",
      "    orient: <Orient.SOUTH: 2>\n",
      "ic| 1795623223.py:9 in <module>\n",
      "    ni.index: 1\n",
      "    nj.index: 3\n",
      "    orient: <Orient.EAST: 3>\n"
     ]
    },
    {
     "name": "stdout",
     "output_type": "stream",
     "text": [
      "None\n",
      "None\n",
      "None\n"
     ]
    }
   ],
   "source": [
    "ni = s.get_node(1)\n",
    "for nj in ni .correct_nb:\n",
    "    # 0,2,3\n",
    "    # if nj.index == 3:\n",
    "        entry = (ni.index, nj.index)\n",
    "        orient = s.graph.edges[(ni.index, nj.index)][\"orient\"] \n",
    "        rel = s.graph.edges[(ni.index, nj.index)][\"space_rel\"] \n",
    "\n",
    "        ic(ni.index, nj.index, orient)\n",
    "        a = Actions(ni, nj, orient, rel)\n",
    "        res = a.spatial_relate_ij()\n",
    "        print(res)\n",
    "    "
   ]
  },
  {
   "cell_type": "code",
   "execution_count": 11,
   "metadata": {},
   "outputs": [
    {
     "ename": "NameError",
     "evalue": "name 'res' is not defined",
     "output_type": "error",
     "traceback": [
      "\u001b[0;31m---------------------------------------------------------------------------\u001b[0m",
      "\u001b[0;31mNameError\u001b[0m                                 Traceback (most recent call last)",
      "\u001b[1;32m/Users/julietnwagwuume-ezeoke/_UILCode/gqe/xie2023/test5.ipynb Cell 7\u001b[0m line \u001b[0;36m1\n\u001b[0;32m----> <a href='vscode-notebook-cell:/Users/julietnwagwuume-ezeoke/_UILCode/gqe/xie2023/test5.ipynb#Y303sZmlsZQ%3D%3D?line=0'>1</a>\u001b[0m res\n",
      "\u001b[0;31mNameError\u001b[0m: name 'res' is not defined"
     ]
    }
   ],
   "source": [
    "res"
   ]
  },
  {
   "cell_type": "code",
   "execution_count": 5,
   "metadata": {},
   "outputs": [
    {
     "name": "stderr",
     "output_type": "stream",
     "text": [
      "ic| 582768976.py:7 in variable_constraint2()\n",
      "    set1[i]: 12\n",
      "    x: 13\n",
      "    set2[i]: 14\n"
     ]
    },
    {
     "data": {
      "text/plain": [
       "[{'x': 13}]"
      ]
     },
     "execution_count": 5,
     "metadata": {},
     "output_type": "execute_result"
    }
   ],
   "source": []
  }
 ],
 "metadata": {
  "kernelspec": {
   "display_name": "gqenv",
   "language": "python",
   "name": "python3"
  },
  "language_info": {
   "codemirror_mode": {
    "name": "ipython",
    "version": 3
   },
   "file_extension": ".py",
   "mimetype": "text/x-python",
   "name": "python",
   "nbconvert_exporter": "python",
   "pygments_lexer": "ipython3",
   "version": "3.9.15"
  }
 },
 "nbformat": 4,
 "nbformat_minor": 2
}
