{
 "cells": [
  {
   "cell_type": "code",
   "execution_count": 1,
   "metadata": {},
   "outputs": [],
   "source": [
    "import matplotlib.pyplot as plt\n",
    "import plotly.graph_objects as go\n",
    "import numpy as np\n",
    "\n",
    "import networkx as nx\n",
    "import constraint as cn\n",
    "\n",
    "from operator import itemgetter\n",
    "\n",
    "from helpers import *\n",
    "from setup import *\n",
    "from actions import * \n",
    "from solution import *\n",
    "from visuals import * \n",
    "from graph_data import * "
   ]
  },
  {
   "cell_type": "code",
   "execution_count": 2,
   "metadata": {},
   "outputs": [],
   "source": [
    "s = Solution()"
   ]
  },
  {
   "cell_type": "code",
   "execution_count": 3,
   "metadata": {},
   "outputs": [
    {
     "name": "stderr",
     "output_type": "stream",
     "text": [
      "ic| solution.py:41 in solve_2D_problem()- edge: (0, 1)\n",
      "ic| actions.py:66 in spatial_relate_ij()\n",
      "    orient: <Orient.NORTH: 1>\n",
      "    rel: <SpatialRel.ADJACENT: 1>\n",
      "ic| solution.py:41 in solve_2D_problem()- edge: (1, 2)\n",
      "ic| actions.py:66 in spatial_relate_ij()\n",
      "    orient: <Orient.SOUTH: 2>\n",
      "    rel: <SpatialRel.INTERSECTING: 2>\n",
      "ic| solution.py:41 in solve_2D_problem()- edge: (2, 3)\n",
      "ic| actions.py:66 in spatial_relate_ij()\n",
      "    orient: <Orient.EAST: 3>\n",
      "    rel: <SpatialRel.ADJACENT: 1>\n",
      "ic| solution.py:41 in solve_2D_problem()- edge: (3, 1)\n"
     ]
    }
   ],
   "source": [
    "s.solve_2D_problem()"
   ]
  },
  {
   "cell_type": "code",
   "execution_count": 4,
   "metadata": {},
   "outputs": [
    {
     "data": {
      "text/plain": [
       "{'faceN': 13, 'faceS': 10, 'faceE': 13, 'faceW': 10, 'faceT': 3, 'faceB': 0}"
      ]
     },
     "execution_count": 4,
     "metadata": {},
     "output_type": "execute_result"
    }
   ],
   "source": [
    "s.get_sols(0)"
   ]
  },
  {
   "cell_type": "code",
   "execution_count": 5,
   "metadata": {},
   "outputs": [
    {
     "data": {
      "text/plain": [
       "{'faceN': 16,\n",
       " 'faceS': 13,\n",
       " 'faceE': 'No Solutions',\n",
       " 'faceW': {'min': 8, 'max': 12},\n",
       " 'faceT': {'min': 0, 'max': 49},\n",
       " 'faceB': {'min': 0, 'max': 49}}"
      ]
     },
     "execution_count": 5,
     "metadata": {},
     "output_type": "execute_result"
    }
   ],
   "source": [
    "s.get_sols(1)"
   ]
  },
  {
   "cell_type": "code",
   "execution_count": 6,
   "metadata": {},
   "outputs": [
    {
     "data": {
      "text/plain": [
       "[[(0, 1), <Orient.NORTH: 1>, <SpatialRel.ADJACENT: 1>],\n",
       " {'faceN': {'min': 0, 'max': 49},\n",
       "  'faceS': {'min': 13, 'max': 49},\n",
       "  'faceE': {'min': 0, 'max': 49},\n",
       "  'faceW': {'min': 0, 'max': 49},\n",
       "  'faceT': {'min': 0, 'max': 49},\n",
       "  'faceB': {'min': 0, 'max': 49}},\n",
       " {'faceN': {'min': 0, 'max': 49},\n",
       "  'faceS': 13,\n",
       "  'faceE': {'min': 0, 'max': 49},\n",
       "  'faceW': {'min': 8, 'max': 12},\n",
       "  'faceT': {'min': 0, 'max': 49},\n",
       "  'faceB': {'min': 0, 'max': 49}},\n",
       " {'faceN': 16,\n",
       "  'faceS': 13,\n",
       "  'faceE': {'min': 11, 'max': 15},\n",
       "  'faceW': {'min': 8, 'max': 12},\n",
       "  'faceT': {'min': 0, 'max': 49},\n",
       "  'faceB': {'min': 0, 'max': 49}}]"
      ]
     },
     "execution_count": 6,
     "metadata": {},
     "output_type": "execute_result"
    }
   ],
   "source": [
    "s.track[0]"
   ]
  },
  {
   "cell_type": "code",
   "execution_count": 7,
   "metadata": {},
   "outputs": [
    {
     "data": {
      "text/plain": [
       "{'faceN': 16,\n",
       " 'faceS': 13,\n",
       " 'faceE': 'No Solutions',\n",
       " 'faceW': {'min': 8, 'max': 12},\n",
       " 'faceT': {'min': 0, 'max': 49},\n",
       " 'faceB': {'min': 0, 'max': 49}}"
      ]
     },
     "execution_count": 7,
     "metadata": {},
     "output_type": "execute_result"
    }
   ],
   "source": [
    "s.get_sols(1)"
   ]
  },
  {
   "cell_type": "code",
   "execution_count": 8,
   "metadata": {},
   "outputs": [
    {
     "data": {
      "text/plain": [
       "[[(1, 2), <Orient.SOUTH: 2>, <SpatialRel.INTERSECTING: 2>],\n",
       " {'faceN': {'min': 0, 'max': 13},\n",
       "  'faceS': {'min': 0, 'max': 49},\n",
       "  'faceE': {'min': 0, 'max': 49},\n",
       "  'faceW': {'min': 0, 'max': 49},\n",
       "  'faceT': {'min': 0, 'max': 49},\n",
       "  'faceB': {'min': 0, 'max': 49}},\n",
       " {'faceN': 13,\n",
       "  'faceS': {'min': 0, 'max': 49},\n",
       "  'faceE': {'min': 0, 'max': 49},\n",
       "  'faceW': {'min': 6, 'max': 14},\n",
       "  'faceT': {'min': 0, 'max': 49},\n",
       "  'faceB': {'min': 0, 'max': 49}},\n",
       " {'faceN': 13,\n",
       "  'faceS': 16,\n",
       "  'faceE': {'min': 9, 'max': 17},\n",
       "  'faceW': {'min': 6, 'max': 14},\n",
       "  'faceT': {'min': 0, 'max': 49},\n",
       "  'faceB': {'min': 0, 'max': 49}}]"
      ]
     },
     "execution_count": 8,
     "metadata": {},
     "output_type": "execute_result"
    }
   ],
   "source": [
    "s.track[1]"
   ]
  },
  {
   "cell_type": "code",
   "execution_count": 9,
   "metadata": {},
   "outputs": [
    {
     "data": {
      "text/plain": [
       "{'faceN': 13,\n",
       " 'faceS': 16,\n",
       " 'faceE': {'min': 9, 'max': 17},\n",
       " 'faceW': 'No Solutions',\n",
       " 'faceT': {'min': 0, 'max': 49},\n",
       " 'faceB': {'min': 0, 'max': 49}}"
      ]
     },
     "execution_count": 9,
     "metadata": {},
     "output_type": "execute_result"
    }
   ],
   "source": [
    "s.get_sols(2)"
   ]
  },
  {
   "cell_type": "code",
   "execution_count": 10,
   "metadata": {},
   "outputs": [
    {
     "data": {
      "text/plain": [
       "[[(2, 3), <Orient.EAST: 3>, <SpatialRel.ADJACENT: 1>],\n",
       " {'faceN': {'min': 0, 'max': 49},\n",
       "  'faceS': {'min': 0, 'max': 49},\n",
       "  'faceE': {'min': 0, 'max': 49},\n",
       "  'faceW': {'min': 9, 'max': 49},\n",
       "  'faceT': {'min': 0, 'max': 49},\n",
       "  'faceB': {'min': 0, 'max': 49}},\n",
       " {'faceN': {'min': 0, 'max': 49},\n",
       "  'faceS': {'min': 6, 'max': 16},\n",
       "  'faceE': {'min': 0, 'max': 49},\n",
       "  'faceW': {'min': 9, 'max': 49},\n",
       "  'faceT': {'min': 0, 'max': 49},\n",
       "  'faceB': {'min': 0, 'max': 49}},\n",
       " {'faceN': {'min': 7, 'max': 17},\n",
       "  'faceS': {'min': 6, 'max': 16},\n",
       "  'faceE': {'min': 10, 'max': 49},\n",
       "  'faceW': {'min': 9, 'max': 49},\n",
       "  'faceT': {'min': 0, 'max': 49},\n",
       "  'faceB': {'min': 0, 'max': 49}}]"
      ]
     },
     "execution_count": 10,
     "metadata": {},
     "output_type": "execute_result"
    }
   ],
   "source": [
    "s.track[2]"
   ]
  },
  {
   "cell_type": "code",
   "execution_count": 11,
   "metadata": {},
   "outputs": [
    {
     "data": {
      "text/plain": [
       "{'faceN': {'min': 7, 'max': 17},\n",
       " 'faceS': 'No Solutions',\n",
       " 'faceE': {'min': 10, 'max': 49},\n",
       " 'faceW': {'min': 9, 'max': 49},\n",
       " 'faceT': {'min': 0, 'max': 49},\n",
       " 'faceB': {'min': 0, 'max': 49}}"
      ]
     },
     "execution_count": 11,
     "metadata": {},
     "output_type": "execute_result"
    }
   ],
   "source": [
    "s.get_sols(3)"
   ]
  },
  {
   "cell_type": "code",
   "execution_count": 12,
   "metadata": {},
   "outputs": [
    {
     "data": {
      "text/plain": [
       "[[(3, 1), <Orient.WEST: 4>, <SpatialRel.ADJACENT: 1>],\n",
       " {'faceN': 16,\n",
       "  'faceS': 13,\n",
       "  'faceE': 'No Solutions',\n",
       "  'faceW': {'min': 8, 'max': 12},\n",
       "  'faceT': {'min': 0, 'max': 49},\n",
       "  'faceB': {'min': 0, 'max': 49}}]"
      ]
     },
     "execution_count": 12,
     "metadata": {},
     "output_type": "execute_result"
    }
   ],
   "source": [
    "s.track[3]"
   ]
  }
 ],
 "metadata": {
  "kernelspec": {
   "display_name": "gqenv",
   "language": "python",
   "name": "python3"
  },
  "language_info": {
   "codemirror_mode": {
    "name": "ipython",
    "version": 3
   },
   "file_extension": ".py",
   "mimetype": "text/x-python",
   "name": "python",
   "nbconvert_exporter": "python",
   "pygments_lexer": "ipython3",
   "version": "3.9.15"
  }
 },
 "nbformat": 4,
 "nbformat_minor": 2
}
