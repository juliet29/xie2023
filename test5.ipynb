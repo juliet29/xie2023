{
 "cells": [
  {
   "cell_type": "code",
   "execution_count": 1,
   "metadata": {},
   "outputs": [],
   "source": [
    "import matplotlib.pyplot as plt\n",
    "import plotly.graph_objects as go\n",
    "import numpy as np\n",
    "\n",
    "import networkx as nx\n",
    "import constraint as cn\n",
    "\n",
    "from operator import itemgetter\n",
    "\n",
    "from helpers import *\n",
    "from setup import *\n",
    "from actions import * \n",
    "from solution import *\n",
    "from visuals import * \n",
    "from graph_data import * "
   ]
  },
  {
   "cell_type": "code",
   "execution_count": 2,
   "metadata": {},
   "outputs": [],
   "source": [
    "s = Solution()"
   ]
  },
  {
   "cell_type": "code",
   "execution_count": 3,
   "metadata": {},
   "outputs": [
    {
     "name": "stderr",
     "output_type": "stream",
     "text": [
      "ic| solution.py:40 in solve_2D_problem()\n",
      "    f\"{edge, orient}\": '((0, 1), <Orient.NORTH: 1>)'\n",
      "ic| solution.py:40 in solve_2D_problem()\n",
      "    f\"{edge, orient}\": '((1, 2), <Orient.SOUTH: 2>)'\n",
      "ic| solution.py:40 in solve_2D_problem()\n",
      "    f\"{edge, orient}\": '((2, 3), <Orient.EAST: 3>)'\n",
      "ic| solution.py:40 in solve_2D_problem()\n",
      "    f\"{edge, orient}\": '((3, 1), <Orient.WEST: 4>)'\n",
      "/Users/julietnwagwuume-ezeoke/_UILCode/gqe/xie2023/actions.py:75: UserWarning:\n",
      "\n",
      "Secondary relate failed\n",
      "\n",
      "ic| solution.py:52 in solve_2D_problem()\n",
      "    \"trying spatial relate again\": 'trying spatial relate again'\n",
      "ic| actions.py:47 in secondary_relate()\n",
      "    \"yyy\": 'yyy'\n",
      "    face_i1.sols: [14, 13]\n",
      "    face_i2.sols: [15, 14]\n",
      "    set1: [12, 11]\n",
      "    set2: [14, 13]\n",
      "    face_j.getSolutions(): [{<Axes.Y: 1>: 13}]\n"
     ]
    }
   ],
   "source": [
    "s.solve_2D_problem()"
   ]
  },
  {
   "cell_type": "code",
   "execution_count": null,
   "metadata": {},
   "outputs": [],
   "source": []
  },
  {
   "cell_type": "code",
   "execution_count": 4,
   "metadata": {},
   "outputs": [],
   "source": [
    "def variable_constraint2(x, dist: int):\n",
    "    set1 = [ix - dist + THRESHOLD for ix  in [14,13]]\n",
    "    set2 = [ix - THRESHOLD for ix in [15, 14]]\n",
    "\n",
    "    valid_len = len(set1) if len(set1) < len(set2) else len(set2)\n",
    "    for i in list(range(valid_len)):\n",
    "        ic(set1[i], x, set2[i])\n",
    "        if set1[i] <= x <= set2[i]:\n",
    "            return x"
   ]
  },
  {
   "cell_type": "code",
   "execution_count": 5,
   "metadata": {},
   "outputs": [
    {
     "name": "stderr",
     "output_type": "stream",
     "text": [
      "ic| 582768976.py:7 in variable_constraint2()\n",
      "    set1[i]: 12\n",
      "    x: 13\n",
      "    set2[i]: 14\n"
     ]
    },
    {
     "data": {
      "text/plain": [
       "[{'x': 13}]"
      ]
     },
     "execution_count": 5,
     "metadata": {},
     "output_type": "execute_result"
    }
   ],
   "source": [
    "p = cn.Problem()\n",
    "p.addVariable(\"x\", range(100))\n",
    "p.addConstraint(cn.InSetConstraint([13]))\n",
    "p.addConstraint(lambda x: variable_constraint2(x, 3))\n",
    "p.getSolutions()"
   ]
  }
 ],
 "metadata": {
  "kernelspec": {
   "display_name": "gqenv",
   "language": "python",
   "name": "python3"
  },
  "language_info": {
   "codemirror_mode": {
    "name": "ipython",
    "version": 3
   },
   "file_extension": ".py",
   "mimetype": "text/x-python",
   "name": "python",
   "nbconvert_exporter": "python",
   "pygments_lexer": "ipython3",
   "version": "3.9.15"
  }
 },
 "nbformat": 4,
 "nbformat_minor": 2
}
