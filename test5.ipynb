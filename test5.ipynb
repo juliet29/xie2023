{
 "cells": [
  {
   "cell_type": "code",
   "execution_count": 1,
   "metadata": {},
   "outputs": [],
   "source": [
    "import matplotlib.pyplot as plt\n",
    "import plotly.graph_objects as go\n",
    "import numpy as np\n",
    "\n",
    "import networkx as nx\n",
    "import constraint as cn\n",
    "\n",
    "from operator import itemgetter\n",
    "\n",
    "from helpers import *\n",
    "from setup import *\n",
    "from actions import * \n",
    "from solution import *\n",
    "from visuals import * \n",
    "from graph_data import * "
   ]
  },
  {
   "cell_type": "code",
   "execution_count": 2,
   "metadata": {},
   "outputs": [],
   "source": [
    "s = Solution()"
   ]
  },
  {
   "cell_type": "code",
   "execution_count": 3,
   "metadata": {},
   "outputs": [
    {
     "name": "stderr",
     "output_type": "stream",
     "text": [
      "ic| solution.py:48 in solve_2D_problem()\n",
      "    edge: (0, 1)\n",
      "    orient: <Orient.NORTH: 1>\n",
      "ic| solution.py:48 in solve_2D_problem()\n",
      "    edge: (1, 2)\n",
      "    orient: <Orient.SOUTH: 2>\n",
      "ic| solution.py:48 in solve_2D_problem()\n",
      "    edge: (2, 3)\n",
      "    orient: <Orient.EAST: 3>\n"
     ]
    }
   ],
   "source": [
    "s.solve_2D_problem()"
   ]
  },
  {
   "cell_type": "code",
   "execution_count": 4,
   "metadata": {},
   "outputs": [
    {
     "data": {
      "text/plain": [
       "{'faceN': [(0, 49), [13], [13]],\n",
       " 'faceS': [(0, 49), [10]],\n",
       " 'faceE': [(0, 49), (9, 17)],\n",
       " 'faceW': [(0, 49), (6, 14)],\n",
       " 'faceT': [(0, 49)],\n",
       " 'faceB': [(0, 49)]}"
      ]
     },
     "execution_count": 4,
     "metadata": {},
     "output_type": "execute_result"
    }
   ],
   "source": [
    "s.get_node_history(2) "
   ]
  },
  {
   "cell_type": "code",
   "execution_count": 5,
   "metadata": {},
   "outputs": [
    {
     "data": {
      "text/plain": [
       "{'faceN': [(0, 49), [16]],\n",
       " 'faceS': [(0, 49), [13]],\n",
       " 'faceE': [(0, 49), (11, 15)],\n",
       " 'faceW': [(0, 49), (8, 12)],\n",
       " 'faceT': [(0, 49)],\n",
       " 'faceB': [(0, 49)]}"
      ]
     },
     "execution_count": 5,
     "metadata": {},
     "output_type": "execute_result"
    }
   ],
   "source": [
    "s.get_node_history(1) "
   ]
  },
  {
   "cell_type": "code",
   "execution_count": 6,
   "metadata": {},
   "outputs": [
    {
     "data": {
      "text/plain": [
       "{'faceN': [(0, 49), (11, 13)],\n",
       " 'faceS': [(0, 49), (10, 12)],\n",
       " 'faceE': [(0, 49), (10, 18)],\n",
       " 'faceW': [(0, 49), (9, 17)],\n",
       " 'faceT': [(0, 49)],\n",
       " 'faceB': [(0, 49)]}"
      ]
     },
     "execution_count": 6,
     "metadata": {},
     "output_type": "execute_result"
    }
   ],
   "source": [
    "s.get_node_history(3)"
   ]
  },
  {
   "cell_type": "code",
   "execution_count": 7,
   "metadata": {},
   "outputs": [
    {
     "data": {
      "text/plain": [
       "{'faceN': [(0, 49), [13]],\n",
       " 'faceS': [(0, 49), [10]],\n",
       " 'faceE': [(0, 49), [13]],\n",
       " 'faceW': [(0, 49), [10]],\n",
       " 'faceT': [(0, 49), [3]],\n",
       " 'faceB': [(0, 49), [0]]}"
      ]
     },
     "execution_count": 7,
     "metadata": {},
     "output_type": "execute_result"
    }
   ],
   "source": [
    "s.get_node_history(0)"
   ]
  }
 ],
 "metadata": {
  "kernelspec": {
   "display_name": "gqenv",
   "language": "python",
   "name": "python3"
  },
  "language_info": {
   "codemirror_mode": {
    "name": "ipython",
    "version": 3
   },
   "file_extension": ".py",
   "mimetype": "text/x-python",
   "name": "python",
   "nbconvert_exporter": "python",
   "pygments_lexer": "ipython3",
   "version": "3.9.15"
  }
 },
 "nbformat": 4,
 "nbformat_minor": 2
}
