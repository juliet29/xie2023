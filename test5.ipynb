{
 "cells": [
  {
   "cell_type": "code",
   "execution_count": 9,
   "metadata": {},
   "outputs": [],
   "source": [
    "import matplotlib.pyplot as plt\n",
    "import plotly.graph_objects as go\n",
    "import numpy as np\n",
    "\n",
    "import networkx as nx\n",
    "import constraint as cn\n",
    "\n",
    "from operator import itemgetter\n",
    "\n",
    "from helpers import *\n",
    "from setup import *\n",
    "from actions import * \n",
    "from solution import *\n",
    "from visuals import * \n",
    "from graph_data import * "
   ]
  },
  {
   "cell_type": "code",
   "execution_count": 8,
   "metadata": {},
   "outputs": [
    {
     "data": {
      "text/plain": [
       "array([[<Orient.NONE: 0>, <Orient.NORTH: 1>, <Orient.NONE: 0>,\n",
       "        <Orient.NONE: 0>],\n",
       "       [<Orient.SOUTH: 2>, <Orient.NONE: 0>, <Orient.NONE: 0>,\n",
       "        <Orient.NONE: 0>],\n",
       "       [<Orient.NONE: 0>, <Orient.NONE: 0>, <Orient.NONE: 0>,\n",
       "        <Orient.NONE: 0>],\n",
       "       [<Orient.NONE: 0>, <Orient.NONE: 0>, <Orient.NONE: 0>,\n",
       "        <Orient.NONE: 0>]], dtype=object)"
      ]
     },
     "execution_count": 8,
     "metadata": {},
     "output_type": "execute_result"
    }
   ],
   "source": [
    "ORIENTATIONS"
   ]
  },
  {
   "cell_type": "code",
   "execution_count": 12,
   "metadata": {},
   "outputs": [
    {
     "data": {
      "text/plain": [
       "array([[<Orient.NONE: 0>, <Orient.NORTH: 1>, <Orient.NONE: 0>,\n",
       "        <Orient.NONE: 0>],\n",
       "       [0, <Orient.NONE: 0>, <Orient.NONE: 0>, <Orient.NONE: 0>],\n",
       "       [0, 0, <Orient.NONE: 0>, <Orient.NONE: 0>],\n",
       "       [0, 0, 0, <Orient.NONE: 0>]], dtype=object)"
      ]
     },
     "execution_count": 12,
     "metadata": {},
     "output_type": "execute_result"
    }
   ],
   "source": [
    "\n",
    "ut"
   ]
  },
  {
   "cell_type": "code",
   "execution_count": 28,
   "metadata": {},
   "outputs": [
    {
     "data": {
      "text/plain": [
       "<Orient.SOUTH: 2>"
      ]
     },
     "execution_count": 28,
     "metadata": {},
     "output_type": "execute_result"
    }
   ],
   "source": [
    "Orient(2)"
   ]
  },
  {
   "cell_type": "code",
   "execution_count": 39,
   "metadata": {},
   "outputs": [],
   "source": [
    "ut = np.triu(ORIENTATIONS)\n",
    "rng = np.random.default_rng(seed=42)\n",
    "for iy, ix in np.ndindex(ut.shape):\n",
    "    if ut[iy, ix] == Orient.NONE:\n",
    "        r = rng.integers(Orient.NORTH.value, Orient.WEST.value, size=1)[0]\n",
    "        ut[iy, ix] = Orient(r)\n",
    "\n",
    "for iy, ix in np.ndindex(ut.shape):\n",
    "    if ut[iy, ix] == 0:\n",
    "        ut[iy, ix] = ut[ix, iy].partner\n",
    "\n",
    "for iy, ix in np.ndindex(ut.shape):\n",
    "    if iy == ix:\n",
    "        ut[iy, ix] = Orient(0)        \n"
   ]
  },
  {
   "cell_type": "code",
   "execution_count": 40,
   "metadata": {},
   "outputs": [
    {
     "data": {
      "text/plain": [
       "array([[<Orient.NONE: 0>, <Orient.NORTH: 1>, <Orient.EAST: 3>,\n",
       "        <Orient.SOUTH: 2>],\n",
       "       [<Orient.SOUTH: 2>, <Orient.NONE: 0>, <Orient.SOUTH: 2>,\n",
       "        <Orient.EAST: 3>],\n",
       "       [<Orient.WEST: 4>, <Orient.NORTH: 1>, <Orient.NONE: 0>,\n",
       "        <Orient.EAST: 3>],\n",
       "       [<Orient.NORTH: 1>, <Orient.WEST: 4>, <Orient.WEST: 4>,\n",
       "        <Orient.NONE: 0>]], dtype=object)"
      ]
     },
     "execution_count": 40,
     "metadata": {},
     "output_type": "execute_result"
    }
   ],
   "source": [
    "ut"
   ]
  },
  {
   "cell_type": "code",
   "execution_count": 42,
   "metadata": {},
   "outputs": [],
   "source": [
    "s = Solution()"
   ]
  },
  {
   "cell_type": "code",
   "execution_count": 45,
   "metadata": {},
   "outputs": [
    {
     "data": {
      "text/plain": [
       "EdgeView([(0, 1), (0, 2), (0, 3), (1, 2), (1, 3), (2, 3)])"
      ]
     },
     "execution_count": 45,
     "metadata": {},
     "output_type": "execute_result"
    }
   ],
   "source": [
    "s.graph.edges()"
   ]
  },
  {
   "cell_type": "code",
   "execution_count": 46,
   "metadata": {},
   "outputs": [
    {
     "name": "stdout",
     "output_type": "stream",
     "text": [
      "0 1\n",
      "0 2\n",
      "0 3\n",
      "1 0\n",
      "1 2\n",
      "1 3\n",
      "2 0\n",
      "2 1\n",
      "2 3\n",
      "3 0\n",
      "3 1\n",
      "3 2\n"
     ]
    }
   ],
   "source": [
    "for iy, ix in np.ndindex(ut.shape):\n",
    "    if (iy, ix) in s.graph.edges():\n",
    "        print(iy, ix)\n",
    "        # s.graph.edges[iy, ix][\"orient\"] = ut[iy, ix]\n",
    "        # s.graph.edges[iy, ix][\"space_rel\"] = SPACE_REL[iy, ix]"
   ]
  },
  {
   "cell_type": "code",
   "execution_count": 43,
   "metadata": {},
   "outputs": [
    {
     "data": {
      "text/plain": [
       "<networkx.classes.graph.Graph at 0x13beea430>"
      ]
     },
     "execution_count": 43,
     "metadata": {},
     "output_type": "execute_result"
    }
   ],
   "source": [
    "s.graph"
   ]
  },
  {
   "cell_type": "code",
   "execution_count": 41,
   "metadata": {},
   "outputs": [
    {
     "data": {
      "text/plain": [
       "array([[0, 1, 3, 2],\n",
       "       [2, 0, 2, 3],\n",
       "       [4, 1, 0, 3],\n",
       "       [1, 4, 4, 0]])"
      ]
     },
     "execution_count": 41,
     "metadata": {},
     "output_type": "execute_result"
    }
   ],
   "source": [
    "np.vectorize(lambda x: x.value)(ut) # diagonal should be 0 "
   ]
  },
  {
   "cell_type": "code",
   "execution_count": null,
   "metadata": {},
   "outputs": [],
   "source": [
    "# get upper triangular of matrix \n",
    "# set values that are NONE using random num gen \n",
    "# for lower triangle, map the partner orientation "
   ]
  }
 ],
 "metadata": {
  "kernelspec": {
   "display_name": "gqenv",
   "language": "python",
   "name": "python3"
  },
  "language_info": {
   "codemirror_mode": {
    "name": "ipython",
    "version": 3
   },
   "file_extension": ".py",
   "mimetype": "text/x-python",
   "name": "python",
   "nbconvert_exporter": "python",
   "pygments_lexer": "ipython3",
   "version": "3.9.15"
  }
 },
 "nbformat": 4,
 "nbformat_minor": 2
}
