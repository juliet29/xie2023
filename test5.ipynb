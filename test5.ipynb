{
 "cells": [
  {
   "cell_type": "code",
   "execution_count": 1,
   "metadata": {},
   "outputs": [],
   "source": [
    "import matplotlib.pyplot as plt\n",
    "import plotly.graph_objects as go\n",
    "import numpy as np\n",
    "\n",
    "import networkx as nx\n",
    "import constraint as cn\n",
    "\n",
    "from operator import itemgetter\n",
    "\n",
    "from helpers import *\n",
    "from setup import *\n",
    "from actions import * \n",
    "from solution import *\n",
    "from visuals import * \n",
    "from graph_data import * "
   ]
  },
  {
   "cell_type": "code",
   "execution_count": 2,
   "metadata": {},
   "outputs": [],
   "source": [
    "s = Solution()"
   ]
  },
  {
   "cell_type": "code",
   "execution_count": 3,
   "metadata": {},
   "outputs": [
    {
     "data": {
      "text/plain": [
       "[(0, 1), (1, 2), (2, 3), (3, 1), (3, 0), (2, 0)]"
      ]
     },
     "execution_count": 3,
     "metadata": {},
     "output_type": "execute_result"
    }
   ],
   "source": [
    "s.spanning_tree"
   ]
  },
  {
   "cell_type": "code",
   "execution_count": null,
   "metadata": {},
   "outputs": [],
   "source": []
  },
  {
   "cell_type": "code",
   "execution_count": null,
   "metadata": {},
   "outputs": [],
   "source": []
  },
  {
   "cell_type": "code",
   "execution_count": 44,
   "metadata": {},
   "outputs": [
    {
     "data": {
      "text/plain": [
       "[(0, 1),\n",
       " (1, 0),\n",
       " (0, 2),\n",
       " (2, 0),\n",
       " (0, 3),\n",
       " (3, 0),\n",
       " (3, 1),\n",
       " (1, 2),\n",
       " (2, 1),\n",
       " (1, 3),\n",
       " (3, 2),\n",
       " (2, 3)]"
      ]
     },
     "execution_count": 44,
     "metadata": {},
     "output_type": "execute_result"
    }
   ],
   "source": [
    "a = list(nx.edge_dfs(s.graph, source=0))\n",
    "a"
   ]
  },
  {
   "cell_type": "code",
   "execution_count": 59,
   "metadata": {},
   "outputs": [],
   "source": [
    "def reorganize_tree(tree: list):\n",
    "    spanning = []\n",
    "    backing = []\n",
    "    for e in tree:\n",
    "        if abs(e[1] - e[0]) == 1:\n",
    "            if e[1] - e[0] < 0:\n",
    "                spanning.append((e[1], e[0]))\n",
    "            else:\n",
    "                spanning.append(e)\n",
    "        else:\n",
    "            if e[1] - e[0] > 0:\n",
    "                backing.append((e[1], e[0]))\n",
    "            else:\n",
    "                backing.append(e)\n",
    "\n",
    "    return list(set(spanning)), sorted(list(set(backing)), reverse=True)"
   ]
  },
  {
   "cell_type": "code",
   "execution_count": 60,
   "metadata": {},
   "outputs": [
    {
     "data": {
      "text/plain": [
       "([(0, 1), (1, 2), (2, 3)], [(3, 1), (3, 0), (2, 0)])"
      ]
     },
     "execution_count": 60,
     "metadata": {},
     "output_type": "execute_result"
    }
   ],
   "source": [
    "b, c = reorganize_tree(a)\n",
    "b, c"
   ]
  },
  {
   "cell_type": "code",
   "execution_count": 54,
   "metadata": {},
   "outputs": [
    {
     "ename": "AttributeError",
     "evalue": "'list' object has no attribute 'unique'",
     "output_type": "error",
     "traceback": [
      "\u001b[0;31m---------------------------------------------------------------------------\u001b[0m",
      "\u001b[0;31mAttributeError\u001b[0m                            Traceback (most recent call last)",
      "\u001b[1;32m/Users/julietnwagwuume-ezeoke/_UILCode/gqe/xie2023/test5.ipynb Cell 7\u001b[0m line \u001b[0;36m1\n\u001b[0;32m----> <a href='vscode-notebook-cell:/Users/julietnwagwuume-ezeoke/_UILCode/gqe/xie2023/test5.ipynb#X53sZmlsZQ%3D%3D?line=0'>1</a>\u001b[0m b\u001b[39m.\u001b[39;49munique()\n",
      "\u001b[0;31mAttributeError\u001b[0m: 'list' object has no attribute 'unique'"
     ]
    }
   ],
   "source": [
    "b.unique()"
   ]
  },
  {
   "cell_type": "code",
   "execution_count": 53,
   "metadata": {},
   "outputs": [
    {
     "data": {
      "text/plain": [
       "{(0, 1), (1, 2), (2, 3)}"
      ]
     },
     "execution_count": 53,
     "metadata": {},
     "output_type": "execute_result"
    }
   ],
   "source": [
    "set(b)"
   ]
  },
  {
   "cell_type": "code",
   "execution_count": null,
   "metadata": {},
   "outputs": [],
   "source": [
    "def filter_dfs(x):\n",
    "    if "
   ]
  },
  {
   "cell_type": "code",
   "execution_count": 49,
   "metadata": {},
   "outputs": [
    {
     "data": {
      "text/plain": [
       "[(0, 1), (0, 2), (0, 3), (1, 2), (1, 3), (2, 3)]"
      ]
     },
     "execution_count": 49,
     "metadata": {},
     "output_type": "execute_result"
    }
   ],
   "source": [
    "list(filter(lambda x: x[1] > x[0], a))"
   ]
  },
  {
   "cell_type": "code",
   "execution_count": 48,
   "metadata": {},
   "outputs": [
    {
     "data": {
      "text/plain": [
       "[True, False, True, False, True, False, False, True, False, True, False, True]"
      ]
     },
     "execution_count": 48,
     "metadata": {},
     "output_type": "execute_result"
    }
   ],
   "source": [
    "a1 = [el[1] > el[0] for el in a]\n",
    "a1"
   ]
  },
  {
   "cell_type": "code",
   "execution_count": null,
   "metadata": {},
   "outputs": [],
   "source": []
  },
  {
   "cell_type": "code",
   "execution_count": 8,
   "metadata": {},
   "outputs": [
    {
     "data": {
      "text/plain": [
       "array([[<Orient.NONE: 0>, <Orient.NORTH: 1>, <Orient.NONE: 0>,\n",
       "        <Orient.NONE: 0>],\n",
       "       [<Orient.SOUTH: 2>, <Orient.NONE: 0>, <Orient.NONE: 0>,\n",
       "        <Orient.NONE: 0>],\n",
       "       [<Orient.NONE: 0>, <Orient.NONE: 0>, <Orient.NONE: 0>,\n",
       "        <Orient.NONE: 0>],\n",
       "       [<Orient.NONE: 0>, <Orient.NONE: 0>, <Orient.NONE: 0>,\n",
       "        <Orient.NONE: 0>]], dtype=object)"
      ]
     },
     "execution_count": 8,
     "metadata": {},
     "output_type": "execute_result"
    }
   ],
   "source": [
    "ORIENTATIONS"
   ]
  },
  {
   "cell_type": "code",
   "execution_count": 12,
   "metadata": {},
   "outputs": [
    {
     "data": {
      "text/plain": [
       "array([[<Orient.NONE: 0>, <Orient.NORTH: 1>, <Orient.NONE: 0>,\n",
       "        <Orient.NONE: 0>],\n",
       "       [0, <Orient.NONE: 0>, <Orient.NONE: 0>, <Orient.NONE: 0>],\n",
       "       [0, 0, <Orient.NONE: 0>, <Orient.NONE: 0>],\n",
       "       [0, 0, 0, <Orient.NONE: 0>]], dtype=object)"
      ]
     },
     "execution_count": 12,
     "metadata": {},
     "output_type": "execute_result"
    }
   ],
   "source": [
    "\n",
    "ut"
   ]
  },
  {
   "cell_type": "code",
   "execution_count": null,
   "metadata": {},
   "outputs": [],
   "source": [
    "def filter_edge(n1, n2):\n",
    "    return G[n1][n2].get(\"cross_me\", True)"
   ]
  },
  {
   "cell_type": "code",
   "execution_count": 28,
   "metadata": {},
   "outputs": [
    {
     "data": {
      "text/plain": [
       "<Orient.SOUTH: 2>"
      ]
     },
     "execution_count": 28,
     "metadata": {},
     "output_type": "execute_result"
    }
   ],
   "source": [
    "Orient(2)"
   ]
  },
  {
   "cell_type": "code",
   "execution_count": 39,
   "metadata": {},
   "outputs": [],
   "source": [
    "ut = np.triu(ORIENTATIONS)\n",
    "rng = np.random.default_rng(seed=42)\n",
    "for iy, ix in np.ndindex(ut.shape):\n",
    "    if ut[iy, ix] == Orient.NONE:\n",
    "        r = rng.integers(Orient.NORTH.value, Orient.WEST.value, size=1)[0]\n",
    "        ut[iy, ix] = Orient(r)\n",
    "\n",
    "for iy, ix in np.ndindex(ut.shape):\n",
    "    if ut[iy, ix] == 0:\n",
    "        ut[iy, ix] = ut[ix, iy].partner\n",
    "\n",
    "for iy, ix in np.ndindex(ut.shape):\n",
    "    if iy == ix:\n",
    "        ut[iy, ix] = Orient(0)        \n"
   ]
  },
  {
   "cell_type": "code",
   "execution_count": 40,
   "metadata": {},
   "outputs": [
    {
     "data": {
      "text/plain": [
       "array([[<Orient.NONE: 0>, <Orient.NORTH: 1>, <Orient.EAST: 3>,\n",
       "        <Orient.SOUTH: 2>],\n",
       "       [<Orient.SOUTH: 2>, <Orient.NONE: 0>, <Orient.SOUTH: 2>,\n",
       "        <Orient.EAST: 3>],\n",
       "       [<Orient.WEST: 4>, <Orient.NORTH: 1>, <Orient.NONE: 0>,\n",
       "        <Orient.EAST: 3>],\n",
       "       [<Orient.NORTH: 1>, <Orient.WEST: 4>, <Orient.WEST: 4>,\n",
       "        <Orient.NONE: 0>]], dtype=object)"
      ]
     },
     "execution_count": 40,
     "metadata": {},
     "output_type": "execute_result"
    }
   ],
   "source": [
    "ut"
   ]
  },
  {
   "cell_type": "code",
   "execution_count": 42,
   "metadata": {},
   "outputs": [],
   "source": []
  },
  {
   "cell_type": "code",
   "execution_count": 45,
   "metadata": {},
   "outputs": [
    {
     "data": {
      "text/plain": [
       "EdgeView([(0, 1), (0, 2), (0, 3), (1, 2), (1, 3), (2, 3)])"
      ]
     },
     "execution_count": 45,
     "metadata": {},
     "output_type": "execute_result"
    }
   ],
   "source": [
    "s.graph.edges()"
   ]
  },
  {
   "cell_type": "code",
   "execution_count": 48,
   "metadata": {},
   "outputs": [],
   "source": [
    "b = nx.DiGraph(s.graph)"
   ]
  },
  {
   "cell_type": "code",
   "execution_count": 49,
   "metadata": {},
   "outputs": [
    {
     "data": {
      "text/plain": [
       "OutEdgeView([(0, 1), (0, 2), (0, 3), (1, 0), (1, 2), (1, 3), (2, 0), (2, 1), (2, 3), (3, 0), (3, 1), (3, 2)])"
      ]
     },
     "execution_count": 49,
     "metadata": {},
     "output_type": "execute_result"
    }
   ],
   "source": [
    "b.edges"
   ]
  },
  {
   "cell_type": "code",
   "execution_count": 54,
   "metadata": {},
   "outputs": [],
   "source": [
    "for iy, ix in np.ndindex(ut.shape):\n",
    "    if (iy, ix) in b.edges():\n",
    "        b.edges[iy, ix][\"orient\"] = ut[iy, ix]\n",
    "        b.edges[iy, ix][\"space_rel\"] = SPACE_REL[iy, ix]"
   ]
  },
  {
   "cell_type": "code",
   "execution_count": 55,
   "metadata": {},
   "outputs": [
    {
     "data": {
      "text/plain": [
       "{'space_rel': <SpatialRel.ADJACENT: 1>, 'orient': <Orient.NORTH: 1>}"
      ]
     },
     "execution_count": 55,
     "metadata": {},
     "output_type": "execute_result"
    }
   ],
   "source": [
    "b.edges[0,1]"
   ]
  },
  {
   "cell_type": "code",
   "execution_count": 56,
   "metadata": {},
   "outputs": [
    {
     "data": {
      "text/plain": [
       "{'space_rel': <SpatialRel.ADJACENT: 1>, 'orient': <Orient.SOUTH: 2>}"
      ]
     },
     "execution_count": 56,
     "metadata": {},
     "output_type": "execute_result"
    }
   ],
   "source": [
    "b.edges[1,0]"
   ]
  },
  {
   "cell_type": "code",
   "execution_count": 43,
   "metadata": {},
   "outputs": [
    {
     "data": {
      "text/plain": [
       "<networkx.classes.graph.Graph at 0x13beea430>"
      ]
     },
     "execution_count": 43,
     "metadata": {},
     "output_type": "execute_result"
    }
   ],
   "source": [
    "s.graph"
   ]
  },
  {
   "cell_type": "code",
   "execution_count": 41,
   "metadata": {},
   "outputs": [
    {
     "data": {
      "text/plain": [
       "array([[0, 1, 3, 2],\n",
       "       [2, 0, 2, 3],\n",
       "       [4, 1, 0, 3],\n",
       "       [1, 4, 4, 0]])"
      ]
     },
     "execution_count": 41,
     "metadata": {},
     "output_type": "execute_result"
    }
   ],
   "source": [
    "np.vectorize(lambda x: x.value)(ut) # diagonal should be 0 "
   ]
  },
  {
   "cell_type": "code",
   "execution_count": null,
   "metadata": {},
   "outputs": [],
   "source": [
    "# get upper triangular of matrix \n",
    "# set values that are NONE using random num gen \n",
    "# for lower triangle, map the partner orientation "
   ]
  }
 ],
 "metadata": {
  "kernelspec": {
   "display_name": "gqenv",
   "language": "python",
   "name": "python3"
  },
  "language_info": {
   "codemirror_mode": {
    "name": "ipython",
    "version": 3
   },
   "file_extension": ".py",
   "mimetype": "text/x-python",
   "name": "python",
   "nbconvert_exporter": "python",
   "pygments_lexer": "ipython3",
   "version": "3.9.15"
  }
 },
 "nbformat": 4,
 "nbformat_minor": 2
}
