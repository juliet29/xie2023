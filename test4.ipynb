{
 "cells": [
  {
   "cell_type": "code",
   "execution_count": 12,
   "metadata": {},
   "outputs": [],
   "source": [
    "import matplotlib.pyplot as plt\n",
    "import numpy as np\n",
    "\n",
    "import networkx as nx\n",
    "import constraint as cn\n",
    "\n",
    "from operator import itemgetter\n",
    "\n",
    "from helpers import *\n",
    "from setup import *\n",
    "from actions import * \n",
    "from solution import *"
   ]
  },
  {
   "cell_type": "code",
   "execution_count": 13,
   "metadata": {},
   "outputs": [
    {
     "data": {
      "text/plain": [
       "{'faceN': 3, 'faceS': 0, 'faceE': 3, 'faceW': 0, 'faceT': 3, 'faceB': 0}"
      ]
     },
     "execution_count": 13,
     "metadata": {},
     "output_type": "execute_result"
    }
   ],
   "source": [
    "s = Solution()\n",
    "s.set_start_node()"
   ]
  },
  {
   "cell_type": "code",
   "execution_count": 14,
   "metadata": {},
   "outputs": [
    {
     "data": {
      "text/plain": [
       "[(0, 1), (1, 2), (2, 0), (0, 3), (3, 1), (3, 2)]"
      ]
     },
     "execution_count": 14,
     "metadata": {},
     "output_type": "execute_result"
    }
   ],
   "source": [
    "s.tree\n",
    "# start with one and 2, then work on changing tree order "
   ]
  },
  {
   "cell_type": "code",
   "execution_count": 15,
   "metadata": {},
   "outputs": [
    {
     "data": {
      "text/plain": [
       "{'space_rel': <SpatialRel.ADJACENT: 1>, 'orient': <Orient.SOUTH: 2>}"
      ]
     },
     "execution_count": 15,
     "metadata": {},
     "output_type": "execute_result"
    }
   ],
   "source": [
    "# first pairing, find orientation relationship\n",
    "s.graph.edges[s.tree[0]]"
   ]
  },
  {
   "cell_type": "code",
   "execution_count": 16,
   "metadata": {},
   "outputs": [
    {
     "data": {
      "text/plain": [
       "<helpers.NodeFaces at 0x103f913a0>"
      ]
     },
     "execution_count": 16,
     "metadata": {},
     "output_type": "execute_result"
    }
   ],
   "source": [
    "# get the nodes\n",
    "ni = s.graph.nodes[s.tree[0][0]][\"props\"].faces\n",
    "nj = s.graph.nodes[s.tree[0][1]][\"props\"].faces\n",
    "# get the orientation \n",
    "orient = s.graph.edges[s.tree[0]][\"orient\"] \n",
    "ni"
   ]
  },
  {
   "cell_type": "code",
   "execution_count": 17,
   "metadata": {},
   "outputs": [
    {
     "name": "stdout",
     "output_type": "stream",
     "text": [
      "Orient.SOUTH\n"
     ]
    }
   ],
   "source": [
    "# set the orientation, and set the matching face \n",
    "a = Actions()\n",
    "# get the nodes\n",
    "ni = s.graph.nodes[s.tree[0][0]][\"props\"]\n",
    "nj = s.graph.nodes[s.tree[0][1]][\"props\"]\n",
    "# get the orientation \n",
    "orient = s.graph.edges[s.tree[0]][\"orient\"] \n",
    "print(orient)\n",
    "# constrain \n",
    "a.orient_ij(ni, nj, orient)\n",
    "\n"
   ]
  },
  {
   "cell_type": "code",
   "execution_count": 20,
   "metadata": {},
   "outputs": [
    {
     "data": {
      "text/plain": [
       "<Axes.Y: 1>"
      ]
     },
     "execution_count": 20,
     "metadata": {},
     "output_type": "execute_result"
    }
   ],
   "source": [
    "orient.axis"
   ]
  },
  {
   "cell_type": "code",
   "execution_count": 18,
   "metadata": {},
   "outputs": [
    {
     "data": {
      "text/plain": [
       "{'faceN': {'min': 1, 'max': 99},\n",
       " 'faceS': {'min': -100, 'max': 99},\n",
       " 'faceE': {'min': -100, 'max': 99},\n",
       " 'faceW': {'min': -100, 'max': 99},\n",
       " 'faceT': {'min': -100, 'max': 99},\n",
       " 'faceB': {'min': -100, 'max': 99}}"
      ]
     },
     "execution_count": 18,
     "metadata": {},
     "output_type": "execute_result"
    }
   ],
   "source": [
    "nj.faces.see_curr_sols()"
   ]
  },
  {
   "cell_type": "code",
   "execution_count": 19,
   "metadata": {},
   "outputs": [
    {
     "data": {
      "text/plain": [
       "{'faceN': {'min': 1, 'max': 99},\n",
       " 'faceS': {'min': -100, 'max': 99},\n",
       " 'faceE': {'min': -100, 'max': 99},\n",
       " 'faceW': {'min': -100, 'max': 99},\n",
       " 'faceT': {'min': -100, 'max': 99},\n",
       " 'faceB': {'min': -100, 'max': 99}}"
      ]
     },
     "execution_count": 19,
     "metadata": {},
     "output_type": "execute_result"
    }
   ],
   "source": [
    "# match face \n",
    "a.set_face_relation(nj, orient.axis)\n",
    "nj.faces.see_curr_sols()"
   ]
  }
 ],
 "metadata": {
  "kernelspec": {
   "display_name": "gqenv",
   "language": "python",
   "name": "python3"
  },
  "language_info": {
   "codemirror_mode": {
    "name": "ipython",
    "version": 3
   },
   "file_extension": ".py",
   "mimetype": "text/x-python",
   "name": "python",
   "nbconvert_exporter": "python",
   "pygments_lexer": "ipython3",
   "version": "3.9.15"
  }
 },
 "nbformat": 4,
 "nbformat_minor": 2
}
