{
 "cells": [
  {
   "cell_type": "code",
   "execution_count": 1,
   "metadata": {},
   "outputs": [],
   "source": [
    "import matplotlib.pyplot as plt\n",
    "import numpy as np\n",
    "\n",
    "import networkx as nx\n",
    "import constraint as cn\n",
    "\n",
    "from operator import itemgetter\n",
    "\n",
    "from helpers import *\n",
    "from setup import *\n",
    "from actions import * \n",
    "from solution import *"
   ]
  },
  {
   "cell_type": "code",
   "execution_count": 2,
   "metadata": {},
   "outputs": [
    {
     "data": {
      "text/plain": [
       "{'faceN': 3, 'faceS': 0, 'faceE': 3, 'faceW': 0, 'faceT': 3, 'faceB': 0}"
      ]
     },
     "execution_count": 2,
     "metadata": {},
     "output_type": "execute_result"
    }
   ],
   "source": [
    "s = Solution()\n",
    "s.set_start_node()"
   ]
  },
  {
   "cell_type": "code",
   "execution_count": 3,
   "metadata": {},
   "outputs": [
    {
     "data": {
      "text/plain": [
       "[(0, 1), (1, 2), (2, 0), (0, 3), (3, 1), (3, 2)]"
      ]
     },
     "execution_count": 3,
     "metadata": {},
     "output_type": "execute_result"
    }
   ],
   "source": [
    "s.tree\n",
    "# start with one and 2, then work on changing tree order "
   ]
  },
  {
   "cell_type": "code",
   "execution_count": 10,
   "metadata": {},
   "outputs": [
    {
     "name": "stdout",
     "output_type": "stream",
     "text": [
      "(0, 1) Orient.SOUTH\n",
      "(1, 2) Orient.SOUTH\n"
     ]
    },
    {
     "ename": "AssertionError",
     "evalue": "Not a unique solution",
     "output_type": "error",
     "traceback": [
      "\u001b[0;31m---------------------------------------------------------------------------\u001b[0m",
      "\u001b[0;31mAssertionError\u001b[0m                            Traceback (most recent call last)",
      "\u001b[1;32m/Users/julietnwagwuume-ezeoke/_UILCode/gqe/xie2023/test4.ipynb Cell 4\u001b[0m line \u001b[0;36m1\n\u001b[0;32m----> <a href='vscode-notebook-cell:/Users/julietnwagwuume-ezeoke/_UILCode/gqe/xie2023/test4.ipynb#X51sZmlsZQ%3D%3D?line=0'>1</a>\u001b[0m s\u001b[39m.\u001b[39;49msolve_2D_problem()\n",
      "File \u001b[0;32m~/_UILCode/gqe/xie2023/solution.py:36\u001b[0m, in \u001b[0;36mSolution.solve_2D_problem\u001b[0;34m(self)\u001b[0m\n\u001b[1;32m     33\u001b[0m \u001b[39mprint\u001b[39m(edge, orient)\n\u001b[1;32m     35\u001b[0m \u001b[39m# constrain based on orientation \u001b[39;00m\n\u001b[0;32m---> 36\u001b[0m a\u001b[39m.\u001b[39;49morient_ij(ni, nj, orient)\n\u001b[1;32m     38\u001b[0m \u001b[39m# match face \u001b[39;00m\n\u001b[1;32m     39\u001b[0m a\u001b[39m.\u001b[39mset_face_relation(nj, orient\u001b[39m.\u001b[39maxis)\n",
      "File \u001b[0;32m~/_UILCode/gqe/xie2023/actions.py:42\u001b[0m, in \u001b[0;36mActions.orient_ij\u001b[0;34m(self, ni, nj, orient)\u001b[0m\n\u001b[1;32m     39\u001b[0m ni \u001b[39m=\u001b[39m ni\u001b[39m.\u001b[39mfaces\n\u001b[1;32m     40\u001b[0m nj \u001b[39m=\u001b[39m nj\u001b[39m.\u001b[39mfaces\n\u001b[1;32m     41\u001b[0m d \u001b[39m=\u001b[39m {\n\u001b[0;32m---> 42\u001b[0m     Orient\u001b[39m.\u001b[39mSOUTH : (nj\u001b[39m.\u001b[39mfaceN, ni\u001b[39m.\u001b[39;49mfaceS\u001b[39m.\u001b[39;49mget_face_sol()),\n\u001b[1;32m     43\u001b[0m     Orient\u001b[39m.\u001b[39mWEST : (nj\u001b[39m.\u001b[39mfaceE, ni\u001b[39m.\u001b[39mfaceW\u001b[39m.\u001b[39mget_face_sol()),  \n\u001b[1;32m     44\u001b[0m     Orient\u001b[39m.\u001b[39mBOTTOM : (nj\u001b[39m.\u001b[39mfaceT, ni\u001b[39m.\u001b[39mfaceB\u001b[39m.\u001b[39mget_face_sol())\n\u001b[1;32m     45\u001b[0m }\n\u001b[1;32m     47\u001b[0m \u001b[39mself\u001b[39m\u001b[39m.\u001b[39m__add_orientation_constraint(\u001b[39m*\u001b[39md[orient])\n\u001b[1;32m     48\u001b[0m \u001b[39mreturn\u001b[39;00m\n",
      "File \u001b[0;32m~/_UILCode/gqe/xie2023/helpers.py:45\u001b[0m, in \u001b[0;36mFace.get_face_sol\u001b[0;34m(self)\u001b[0m\n\u001b[1;32m     44\u001b[0m \u001b[39mdef\u001b[39;00m \u001b[39mget_face_sol\u001b[39m(\u001b[39mself\u001b[39m):\n\u001b[0;32m---> 45\u001b[0m     \u001b[39massert\u001b[39;00m \u001b[39mlen\u001b[39m(\u001b[39mself\u001b[39m\u001b[39m.\u001b[39mgetSolutions()) \u001b[39m==\u001b[39m \u001b[39m1\u001b[39m, \u001b[39m\"\u001b[39m\u001b[39mNot a unique solution\u001b[39m\u001b[39m\"\u001b[39m\n\u001b[1;32m     46\u001b[0m     \u001b[39mself\u001b[39m\u001b[39m.\u001b[39msolution \u001b[39m=\u001b[39m [\u001b[39m*\u001b[39m\u001b[39mself\u001b[39m\u001b[39m.\u001b[39mgetSolution()\u001b[39m.\u001b[39mvalues()][\u001b[39m0\u001b[39m]\n\u001b[1;32m     47\u001b[0m     \u001b[39mreturn\u001b[39;00m \u001b[39mself\u001b[39m\u001b[39m.\u001b[39msolution\n",
      "\u001b[0;31mAssertionError\u001b[0m: Not a unique solution"
     ]
    }
   ],
   "source": [
    "s.solve_2D_problem()"
   ]
  },
  {
   "cell_type": "code",
   "execution_count": 4,
   "metadata": {},
   "outputs": [
    {
     "data": {
      "text/plain": [
       "{'space_rel': <SpatialRel.ADJACENT: 1>, 'orient': <Orient.SOUTH: 2>}"
      ]
     },
     "execution_count": 4,
     "metadata": {},
     "output_type": "execute_result"
    }
   ],
   "source": [
    "# first pairing, find orientation relationship\n",
    "s.graph.edges[s.tree[0]]"
   ]
  },
  {
   "cell_type": "code",
   "execution_count": 5,
   "metadata": {},
   "outputs": [
    {
     "data": {
      "text/plain": [
       "<helpers.NodeFaces at 0x114b15af0>"
      ]
     },
     "execution_count": 5,
     "metadata": {},
     "output_type": "execute_result"
    }
   ],
   "source": [
    "# get the nodes\n",
    "ni = s.graph.nodes[s.tree[0][0]][\"props\"].faces\n",
    "nj = s.graph.nodes[s.tree[0][1]][\"props\"].faces\n",
    "# get the orientation \n",
    "orient = s.graph.edges[s.tree[0]][\"orient\"] \n",
    "ni"
   ]
  },
  {
   "cell_type": "code",
   "execution_count": 6,
   "metadata": {},
   "outputs": [
    {
     "name": "stdout",
     "output_type": "stream",
     "text": [
      "Orient.SOUTH\n"
     ]
    }
   ],
   "source": [
    "# set the orientation, and set the matching face \n",
    "a = Actions()\n",
    "# get the nodes\n",
    "ni = s.graph.nodes[s.tree[0][0]][\"props\"]\n",
    "nj = s.graph.nodes[s.tree[0][1]][\"props\"]\n",
    "# get the orientation \n",
    "orient = s.graph.edges[s.tree[0]][\"orient\"] \n",
    "print(orient)\n",
    "# constrain \n",
    "a.orient_ij(ni, nj, orient)\n",
    "\n"
   ]
  },
  {
   "cell_type": "code",
   "execution_count": 7,
   "metadata": {},
   "outputs": [
    {
     "data": {
      "text/plain": [
       "<Axes.Y: 1>"
      ]
     },
     "execution_count": 7,
     "metadata": {},
     "output_type": "execute_result"
    }
   ],
   "source": [
    "orient.axis"
   ]
  },
  {
   "cell_type": "code",
   "execution_count": 8,
   "metadata": {},
   "outputs": [
    {
     "data": {
      "text/plain": [
       "{'faceN': {'min': 1, 'max': 99},\n",
       " 'faceS': {'min': -100, 'max': 99},\n",
       " 'faceE': {'min': -100, 'max': 99},\n",
       " 'faceW': {'min': -100, 'max': 99},\n",
       " 'faceT': {'min': -100, 'max': 99},\n",
       " 'faceB': {'min': -100, 'max': 99}}"
      ]
     },
     "execution_count": 8,
     "metadata": {},
     "output_type": "execute_result"
    }
   ],
   "source": [
    "nj.faces.see_curr_sols()"
   ]
  },
  {
   "cell_type": "code",
   "execution_count": 9,
   "metadata": {},
   "outputs": [
    {
     "data": {
      "text/plain": [
       "{'faceN': {'min': 1, 'max': 99},\n",
       " 'faceS': {'min': 4, 'max': 99},\n",
       " 'faceE': {'min': -100, 'max': 99},\n",
       " 'faceW': {'min': -100, 'max': 99},\n",
       " 'faceT': {'min': -100, 'max': 99},\n",
       " 'faceB': {'min': -100, 'max': 99}}"
      ]
     },
     "execution_count": 9,
     "metadata": {},
     "output_type": "execute_result"
    }
   ],
   "source": [
    "# match face \n",
    "a.set_face_relation(nj, orient.axis)\n",
    "nj.faces.see_curr_sols()"
   ]
  }
 ],
 "metadata": {
  "kernelspec": {
   "display_name": "gqenv",
   "language": "python",
   "name": "python3"
  },
  "language_info": {
   "codemirror_mode": {
    "name": "ipython",
    "version": 3
   },
   "file_extension": ".py",
   "mimetype": "text/x-python",
   "name": "python",
   "nbconvert_exporter": "python",
   "pygments_lexer": "ipython3",
   "version": "3.9.15"
  }
 },
 "nbformat": 4,
 "nbformat_minor": 2
}
