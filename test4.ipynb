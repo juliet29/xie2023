{
 "cells": [
  {
   "cell_type": "code",
   "execution_count": 1,
   "metadata": {},
   "outputs": [],
   "source": [
    "import matplotlib.pyplot as plt\n",
    "import plotly.graph_objects as go\n",
    "import numpy as np\n",
    "\n",
    "import networkx as nx\n",
    "import constraint as cn\n",
    "\n",
    "from operator import itemgetter\n",
    "\n",
    "from helpers import *\n",
    "from setup import *\n",
    "from actions import * \n",
    "from solution import *\n",
    "\n",
    "\n"
   ]
  },
  {
   "cell_type": "code",
   "execution_count": 2,
   "metadata": {},
   "outputs": [
    {
     "data": {
      "text/plain": [
       "{'faceN': 13, 'faceS': 10, 'faceE': 13, 'faceW': 10, 'faceT': 3, 'faceB': 0}"
      ]
     },
     "execution_count": 2,
     "metadata": {},
     "output_type": "execute_result"
    }
   ],
   "source": [
    "s = Solution()\n",
    "s.set_start_node()"
   ]
  },
  {
   "cell_type": "code",
   "execution_count": 3,
   "metadata": {},
   "outputs": [
    {
     "data": {
      "text/plain": [
       "[(0, 1), (1, 2), (2, 0), (0, 3), (3, 1), (3, 2)]"
      ]
     },
     "execution_count": 3,
     "metadata": {},
     "output_type": "execute_result"
    }
   ],
   "source": [
    "s.tree\n",
    "# start with one and 2, then work on changing tree order "
   ]
  },
  {
   "cell_type": "code",
   "execution_count": 4,
   "metadata": {},
   "outputs": [
    {
     "name": "stdout",
     "output_type": "stream",
     "text": [
      "Orient.SOUTH\n",
      "Orient.EAST\n",
      "Orient.SOUTH\n",
      "Orient.SOUTH\n",
      "Orient.SOUTH\n",
      "Orient.EAST\n"
     ]
    }
   ],
   "source": [
    "for e in s.tree:\n",
    "    print(s.graph.edges[e][\"orient\"])"
   ]
  },
  {
   "cell_type": "code",
   "execution_count": 5,
   "metadata": {},
   "outputs": [
    {
     "name": "stdout",
     "output_type": "stream",
     "text": [
      "[(0, 1), (1, 2), (2, 3)] [(2, 0), (3, 0), (3, 1)]\n"
     ]
    }
   ],
   "source": [
    "spanning = []\n",
    "backing = []\n",
    "for e in s.tree:\n",
    "    if abs(e[1] - e[0]) == 1:\n",
    "        if e[1] - e[0] < 0:\n",
    "            spanning.append((e[1], e[0]))\n",
    "        else:\n",
    "            spanning.append(e)\n",
    "    else:\n",
    "        if e[1] - e[0] > 0:\n",
    "            backing.append((e[1], e[0]))\n",
    "        else:\n",
    "            backing.append(e)\n",
    "print(spanning, backing)\n",
    "    "
   ]
  },
  {
   "cell_type": "code",
   "execution_count": 6,
   "metadata": {},
   "outputs": [
    {
     "data": {
      "text/plain": [
       "[(3, 1), (3, 0), (2, 0)]"
      ]
     },
     "execution_count": 6,
     "metadata": {},
     "output_type": "execute_result"
    }
   ],
   "source": [
    "sorted(backing, reverse=True)"
   ]
  },
  {
   "cell_type": "code",
   "execution_count": 7,
   "metadata": {},
   "outputs": [],
   "source": [
    "# reorganize tree..\n",
    "# look for all that have a difference of (1), and put those in increasing order \n",
    "# for all those with difference of > 1, have in decreaing order..."
   ]
  },
  {
   "cell_type": "code",
   "execution_count": 8,
   "metadata": {},
   "outputs": [
    {
     "name": "stdout",
     "output_type": "stream",
     "text": [
      "(0, 1) Orient.SOUTH\n",
      "('node_num is 1', {'faceN': {'min': 0, 'max': 9}, 'faceS': {'min': 3, 'max': 12}, 'faceE': {'min': 0, 'max': 49}, 'faceW': {'min': 0, 'max': 49}, 'faceT': {'min': 0, 'max': 49}, 'faceB': {'min': 0, 'max': 49}})\n",
      "(1, 2) Orient.EAST\n",
      "switched\n",
      "('node_num is 2', {'faceN': {'min': 0, 'max': 49}, 'faceS': {'min': 0, 'max': 49}, 'faceE': {'min': 0, 'max': 49}, 'faceW': {'min': 3, 'max': 49}, 'faceT': {'min': 0, 'max': 49}, 'faceB': {'min': 0, 'max': 49}})\n",
      "(2, 0) Orient.NORTH\n",
      "switched\n",
      "('node_num is 0', {'faceN': {'min': 0, 'max': 49}, 'faceS': {'min': 3, 'max': 49}, 'faceE': {'min': 0, 'max': 49}, 'faceW': {'min': 3, 'max': 49}, 'faceT': {'min': 0, 'max': 49}, 'faceB': {'min': 0, 'max': 49}})\n",
      "(0, 3) Orient.SOUTH\n",
      "('node_num is 3', {'faceN': {'min': 0, 'max': 9}, 'faceS': {'min': 1, 'max': 10}, 'faceE': {'min': 0, 'max': 49}, 'faceW': {'min': 0, 'max': 49}, 'faceT': {'min': 0, 'max': 49}, 'faceB': {'min': 0, 'max': 49}})\n",
      "(3, 1) Orient.SOUTH\n",
      "('node_num is 1', {'faceN': 0, 'faceS': 3, 'faceE': 'No Solutions', 'faceW': {'min': 0, 'max': 49}, 'faceT': {'min': 0, 'max': 49}, 'faceB': {'min': 0, 'max': 49}})\n",
      "(3, 2) Orient.EAST\n",
      "switched\n",
      "('node_num is 2', {'faceN': {'min': 0, 'max': 49}, 'faceS': {'min': 3, 'max': 49}, 'faceE': {'min': 0, 'max': 49}, 'faceW': {'min': 3, 'max': 49}, 'faceT': {'min': 0, 'max': 49}, 'faceB': {'min': 0, 'max': 49}})\n"
     ]
    }
   ],
   "source": [
    "s.solve_2D_problem()"
   ]
  },
  {
   "cell_type": "code",
   "execution_count": null,
   "metadata": {},
   "outputs": [],
   "source": []
  },
  {
   "cell_type": "code",
   "execution_count": 9,
   "metadata": {},
   "outputs": [
    {
     "data": {
      "text/plain": [
       "{'faceN': 0,\n",
       " 'faceS': 3,\n",
       " 'faceE': 'No Solutions',\n",
       " 'faceW': {'min': 0, 'max': 49},\n",
       " 'faceT': {'min': 0, 'max': 49},\n",
       " 'faceB': {'min': 0, 'max': 49}}"
      ]
     },
     "execution_count": 9,
     "metadata": {},
     "output_type": "execute_result"
    }
   ],
   "source": [
    "s.graph.nodes[1][\"props\"].faces.see_curr_sols()"
   ]
  }
 ],
 "metadata": {
  "kernelspec": {
   "display_name": "gqenv",
   "language": "python",
   "name": "python3"
  },
  "language_info": {
   "codemirror_mode": {
    "name": "ipython",
    "version": 3
   },
   "file_extension": ".py",
   "mimetype": "text/x-python",
   "name": "python",
   "nbconvert_exporter": "python",
   "pygments_lexer": "ipython3",
   "version": "3.9.15"
  }
 },
 "nbformat": 4,
 "nbformat_minor": 2
}
